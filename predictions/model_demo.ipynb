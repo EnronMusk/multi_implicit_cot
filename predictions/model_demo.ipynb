{
 "cells": [
  {
   "cell_type": "code",
   "execution_count": 6,
   "metadata": {},
   "outputs": [],
   "source": [
    "import sys\n",
    "\n",
    "directory_path = r\"C:\\Users\\Luke\\multi_implicit_cot\"\n",
    "sys.path.insert(False, directory_path)\n",
    "\n",
    "from data.data import DatasetGenerator\n"
   ]
  },
  {
   "cell_type": "code",
   "execution_count": 26,
   "metadata": {},
   "outputs": [
    {
     "data": {
      "text/plain": [
       "'C:\\\\Users\\\\Luke\\\\AppData\\\\Local\\\\Programs\\\\Microsoft VS Code'"
      ]
     },
     "execution_count": 26,
     "metadata": {},
     "output_type": "execute_result"
    }
   ],
   "source": [
    "import os\n",
    "os.getcwd()"
   ]
  },
  {
   "cell_type": "code",
   "execution_count": null,
   "metadata": {},
   "outputs": [],
   "source": [
    "u = DatasetGenerator(tokenizer=None, )"
   ]
  },
  {
   "cell_type": "code",
   "execution_count": 27,
   "metadata": {},
   "outputs": [
    {
     "ename": "NameError",
     "evalue": "name '__file__' is not defined",
     "output_type": "error",
     "traceback": [
      "\u001b[1;31m---------------------------------------------------------------------------\u001b[0m",
      "\u001b[1;31mNameError\u001b[0m                                 Traceback (most recent call last)",
      "\u001b[1;32mEnronMusk\\multi_implicit_cot\\predictions\\model_demo.ipynb Cell 3\u001b[0m line \u001b[0;36m1\n\u001b[1;32m----> <a href='vscode-notebook-cell://github/EnronMusk/multi_implicit_cot/predictions/model_demo.ipynb#W4sdnNjb2RlLXZmcw%3D%3D?line=0'>1</a>\u001b[0m dir_path \u001b[39m=\u001b[39m os\u001b[39m.\u001b[39mpath\u001b[39m.\u001b[39mdirname(os\u001b[39m.\u001b[39mpath\u001b[39m.\u001b[39mrealpath(\u001b[39m__file__\u001b[39;49m))\n",
      "\u001b[1;31mNameError\u001b[0m: name '__file__' is not defined"
     ]
    }
   ],
   "source": [
    "dir_path = os.path.dirname(os.path.realpath(__file__))"
   ]
  },
  {
   "cell_type": "code",
   "execution_count": 29,
   "metadata": {},
   "outputs": [
    {
     "ename": "NameError",
     "evalue": "name '__file__' is not defined",
     "output_type": "error",
     "traceback": [
      "\u001b[1;31m---------------------------------------------------------------------------\u001b[0m",
      "\u001b[1;31mNameError\u001b[0m                                 Traceback (most recent call last)",
      "\u001b[1;32mEnronMusk\\multi_implicit_cot\\predictions\\model_demo.ipynb Cell 4\u001b[0m line \u001b[0;36m1\n\u001b[1;32m----> <a href='vscode-notebook-cell://github/EnronMusk/multi_implicit_cot/predictions/model_demo.ipynb#W6sdnNjb2RlLXZmcw%3D%3D?line=0'>1</a>\u001b[0m current_script_directory \u001b[39m=\u001b[39m os\u001b[39m.\u001b[39mpath\u001b[39m.\u001b[39mdirname(os\u001b[39m.\u001b[39mpath\u001b[39m.\u001b[39mabspath(\u001b[39m__file__\u001b[39;49m))\n\u001b[0;32m      <a href='vscode-notebook-cell://github/EnronMusk/multi_implicit_cot/predictions/model_demo.ipynb#W6sdnNjb2RlLXZmcw%3D%3D?line=2'>3</a>\u001b[0m \u001b[39mprint\u001b[39m(\u001b[39m\"\u001b[39m\u001b[39mCurrent script directory:\u001b[39m\u001b[39m\"\u001b[39m, current_script_directory)\n",
      "\u001b[1;31mNameError\u001b[0m: name '__file__' is not defined"
     ]
    }
   ],
   "source": [
    "current_script_directory = os.path.dirname(os.path.abspath(__file__))\n",
    "\n",
    "print(\"Current script directory:\", current_script_directory)"
   ]
  },
  {
   "cell_type": "code",
   "execution_count": 30,
   "metadata": {},
   "outputs": [
    {
     "name": "stdout",
     "output_type": "stream",
     "text": [
      "Current script directory: C:\\Users\\Luke\\AppData\\Local\\Packages\\PythonSoftwareFoundation.Python.3.10_qbz5n2kfra8p0\\LocalCache\\local-packages\\Python310\\site-packages\n"
     ]
    }
   ],
   "source": [
    "script_location = os.path.abspath(sys.argv[0])\n",
    "current_script_directory = os.path.dirname(script_location)\n",
    "\n",
    "print(\"Current script directory:\", current_script_directory)"
   ]
  },
  {
   "cell_type": "code",
   "execution_count": 33,
   "metadata": {},
   "outputs": [
    {
     "name": "stdout",
     "output_type": "stream",
     "text": [
      "Current script directory: C:\\Users\\Luke\\AppData\\Local\\Temp\\ipykernel_30144\n"
     ]
    }
   ],
   "source": [
    "import inspect\n",
    "import os\n",
    "\n",
    "# Get the directory of the currently executing script\n",
    "current_script_directory = os.path.dirname(os.path.abspath(inspect.getfile(inspect.currentframe())))\n",
    "\n",
    "print(\"Current script directory:\", current_script_directory)\n"
   ]
  },
  {
   "cell_type": "code",
   "execution_count": 34,
   "metadata": {},
   "outputs": [
    {
     "ename": "AttributeError",
     "evalue": "module 'IPython' has no attribute 'notebook'",
     "output_type": "error",
     "traceback": [
      "\u001b[1;31m---------------------------------------------------------------------------\u001b[0m",
      "\u001b[1;31mAttributeError\u001b[0m                            Traceback (most recent call last)",
      "\u001b[1;32mEnronMusk\\multi_implicit_cot\\predictions\\model_demo.ipynb Cell 7\u001b[0m line \u001b[0;36m5\n\u001b[0;32m      <a href='vscode-notebook-cell://github/EnronMusk/multi_implicit_cot/predictions/model_demo.ipynb#X13sdnNjb2RlLXZmcw%3D%3D?line=1'>2</a>\u001b[0m \u001b[39mimport\u001b[39;00m \u001b[39mIPython\u001b[39;00m\n\u001b[0;32m      <a href='vscode-notebook-cell://github/EnronMusk/multi_implicit_cot/predictions/model_demo.ipynb#X13sdnNjb2RlLXZmcw%3D%3D?line=3'>4</a>\u001b[0m \u001b[39m# Get the notebook file path\u001b[39;00m\n\u001b[1;32m----> <a href='vscode-notebook-cell://github/EnronMusk/multi_implicit_cot/predictions/model_demo.ipynb#X13sdnNjb2RlLXZmcw%3D%3D?line=4'>5</a>\u001b[0m notebook_file_path \u001b[39m=\u001b[39m IPython\u001b[39m.\u001b[39;49mnotebook\u001b[39m.\u001b[39mnotebook_name\n\u001b[0;32m      <a href='vscode-notebook-cell://github/EnronMusk/multi_implicit_cot/predictions/model_demo.ipynb#X13sdnNjb2RlLXZmcw%3D%3D?line=6'>7</a>\u001b[0m \u001b[39m# Get the directory of the notebook file\u001b[39;00m\n\u001b[0;32m      <a href='vscode-notebook-cell://github/EnronMusk/multi_implicit_cot/predictions/model_demo.ipynb#X13sdnNjb2RlLXZmcw%3D%3D?line=7'>8</a>\u001b[0m notebook_location \u001b[39m=\u001b[39m os\u001b[39m.\u001b[39mpath\u001b[39m.\u001b[39mdirname(os\u001b[39m.\u001b[39mpath\u001b[39m.\u001b[39mabspath(notebook_file_path))\n",
      "\u001b[1;31mAttributeError\u001b[0m: module 'IPython' has no attribute 'notebook'"
     ]
    }
   ],
   "source": [
    "import os\n",
    "import IPython\n",
    "\n",
    "# Get the notebook file path\n",
    "notebook_file_path = IPython.notebook.notebook_name\n",
    "\n",
    "# Get the directory of the notebook file\n",
    "notebook_location = os.path.dirname(os.path.abspath(notebook_file_path))\n",
    "\n",
    "print(\"Notebook location:\", notebook_location)"
   ]
  },
  {
   "cell_type": "code",
   "execution_count": 35,
   "metadata": {},
   "outputs": [
    {
     "name": "stdout",
     "output_type": "stream",
     "text": [
      "Notebook location: C:\\Users\\Luke\\AppData\\Local\\Programs\\Microsoft VS Code\n"
     ]
    }
   ],
   "source": [
    "from IPython import get_ipython\n",
    "\n",
    "# Get the notebook location using IPython\n",
    "notebook_location = get_ipython().run_line_magic('pwd', '')\n",
    "\n",
    "print(\"Notebook location:\", notebook_location)"
   ]
  },
  {
   "cell_type": "code",
   "execution_count": 31,
   "metadata": {},
   "outputs": [
    {
     "name": "stdout",
     "output_type": "stream",
     "text": [
      "Current script directory: C:\\Users\\Luke\\AppData\\Local\\Programs\\Microsoft VS Code\n"
     ]
    }
   ],
   "source": [
    "current_script_directory = os.getcwd()\n",
    "\n",
    "print(\"Current script directory:\", current_script_directory)"
   ]
  },
  {
   "cell_type": "code",
   "execution_count": 28,
   "metadata": {},
   "outputs": [
    {
     "data": {
      "text/plain": [
       "WindowsPath('C:/Users/Luke/AppData/Local/Programs/Microsoft VS Code')"
      ]
     },
     "execution_count": 28,
     "metadata": {},
     "output_type": "execute_result"
    }
   ],
   "source": [
    "import pathlib\n",
    "pathlib.Path().resolve()"
   ]
  },
  {
   "cell_type": "code",
   "execution_count": 23,
   "metadata": {},
   "outputs": [],
   "source": [
    "import sys\n",
    "sys.path.insert(False, r\"C:\\Users\\Luke\\multi_implicit_cot\")"
   ]
  },
  {
   "cell_type": "code",
   "execution_count": 24,
   "metadata": {},
   "outputs": [
    {
     "data": {
      "text/plain": [
       "['C:\\\\Users\\\\Luke\\\\multi_implicit_cot',\n",
       " 'C:\\\\Users\\\\Luke\\\\AppData\\\\Local\\\\Programs\\\\Microsoft VS Code',\n",
       " 'C:\\\\Program Files\\\\WindowsApps\\\\PythonSoftwareFoundation.Python.3.10_3.10.3056.0_x64__qbz5n2kfra8p0\\\\python310.zip',\n",
       " 'C:\\\\Program Files\\\\WindowsApps\\\\PythonSoftwareFoundation.Python.3.10_3.10.3056.0_x64__qbz5n2kfra8p0\\\\DLLs',\n",
       " 'C:\\\\Program Files\\\\WindowsApps\\\\PythonSoftwareFoundation.Python.3.10_3.10.3056.0_x64__qbz5n2kfra8p0\\\\lib',\n",
       " 'C:\\\\Users\\\\Luke\\\\AppData\\\\Local\\\\Microsoft\\\\WindowsApps\\\\PythonSoftwareFoundation.Python.3.10_qbz5n2kfra8p0',\n",
       " '',\n",
       " 'C:\\\\Users\\\\Luke\\\\AppData\\\\Local\\\\Packages\\\\PythonSoftwareFoundation.Python.3.10_qbz5n2kfra8p0\\\\LocalCache\\\\local-packages\\\\Python310\\\\site-packages',\n",
       " 'C:\\\\Users\\\\Luke\\\\AppData\\\\Local\\\\Packages\\\\PythonSoftwareFoundation.Python.3.10_qbz5n2kfra8p0\\\\LocalCache\\\\local-packages\\\\Python310\\\\site-packages\\\\win32',\n",
       " 'C:\\\\Users\\\\Luke\\\\AppData\\\\Local\\\\Packages\\\\PythonSoftwareFoundation.Python.3.10_qbz5n2kfra8p0\\\\LocalCache\\\\local-packages\\\\Python310\\\\site-packages\\\\win32\\\\lib',\n",
       " 'C:\\\\Users\\\\Luke\\\\AppData\\\\Local\\\\Packages\\\\PythonSoftwareFoundation.Python.3.10_qbz5n2kfra8p0\\\\LocalCache\\\\local-packages\\\\Python310\\\\site-packages\\\\Pythonwin',\n",
       " 'C:\\\\Program Files\\\\WindowsApps\\\\PythonSoftwareFoundation.Python.3.10_3.10.3056.0_x64__qbz5n2kfra8p0',\n",
       " 'C:\\\\Program Files\\\\WindowsApps\\\\PythonSoftwareFoundation.Python.3.10_3.10.3056.0_x64__qbz5n2kfra8p0\\\\lib\\\\site-packages']"
      ]
     },
     "execution_count": 24,
     "metadata": {},
     "output_type": "execute_result"
    }
   ],
   "source": [
    "sys.path"
   ]
  }
 ],
 "metadata": {
  "kernelspec": {
   "display_name": "Python 3",
   "language": "python",
   "name": "python3"
  },
  "language_info": {
   "codemirror_mode": {
    "name": "ipython",
    "version": 3
   },
   "file_extension": ".py",
   "mimetype": "text/x-python",
   "name": "python",
   "nbconvert_exporter": "python",
   "pygments_lexer": "ipython3",
   "version": "3.10.11"
  }
 },
 "nbformat": 4,
 "nbformat_minor": 2
}
