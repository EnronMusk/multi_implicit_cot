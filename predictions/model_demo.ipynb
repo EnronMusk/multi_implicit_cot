{
 "cells": [
  {
   "cell_type": "markdown",
   "metadata": {},
   "source": [
    "# **Multi-inference implicit chain of reasoning demonstration**\n",
    "\n",
    "Here I attempt to solve this challenge [here](https://yuntiandeng.com/cv/challenge.png) by referencing the research paper and source code linked below.\n",
    "\n",
    "| ||\n",
    "|----------|----------|\n",
    "| Research Credit | [here](https://arxiv.org/pdf/2311.01460.pdf) |\n",
    "| Code Inspiration Credit | [github](https://github.com/da03/implicit_chain_of_thought/tree/main) |"
   ]
  },
  {
   "cell_type": "code",
   "execution_count": 1,
   "metadata": {},
   "outputs": [],
   "source": [
    "import sys\n",
    "import os\n",
    "\n",
    "#For safe imports\n",
    "notebook_directory = os.getcwd()\n",
    "parent_directory = os.path.dirname(notebook_directory)\n",
    "sys.path.insert(False, parent_directory)\n"
   ]
  },
  {
   "cell_type": "code",
   "execution_count": 2,
   "metadata": {},
   "outputs": [],
   "source": [
    "parent_directory = os.path.dirname(notebook_directory)"
   ]
  },
  {
   "cell_type": "markdown",
   "metadata": {},
   "source": [
    "### **Dataset Generation**\n",
    "Here we generate our test and train data. We generate our training data randomly such that it represents less than **1%** of possible observations. We also generate our tokenized data here as well.\n",
    "\n",
    "---\n",
    "\n",
    "The format of training and test datasets follow this format:\n",
    "\n",
    "```\n",
    "[input 1a] $$$ [input 1b]||[CoT 1a] $$$ [CoT 1b] #### [output 1a] $$$ [output 1b]\n",
    "[input 2a] $$$ [input 2b]||[CoT 2a] $$$ [CoT 2b] #### [output 2a] $$$ [output 2b]\n",
    "[input 3a] $$$ [input 3b]||[CoT 3a] $$$ [CoT 3b] #### [output 3a] $$$ [output 3b]\n",
    "```\n",
    "\n",
    "We can also test any particular case using the DatasetHandler. We create a custom prediction dataset as well."
   ]
  },
  {
   "cell_type": "code",
   "execution_count": 3,
   "metadata": {},
   "outputs": [],
   "source": [
    "from data.data import DatasetHandler\n",
    "from transformers import AutoTokenizer\n",
    "tokenizer = AutoTokenizer.from_pretrained('gpt2')\n",
    "\n",
    "training_data_size = 777\n",
    "test_data_size = 77\n",
    "\n",
    "datahandler_train = DatasetHandler(tokenizer = tokenizer, parent_path = parent_directory, max_len = 1024, type = 'train')\n",
    "datahandler_test = DatasetHandler(tokenizer = tokenizer, parent_path = parent_directory, max_len = 1024, type = 'test')"
   ]
  },
  {
   "cell_type": "markdown",
   "metadata": {},
   "source": [
    "Now we generate datasets for each handler."
   ]
  },
  {
   "cell_type": "code",
   "execution_count": 4,
   "metadata": {},
   "outputs": [
    {
     "name": "stdout",
     "output_type": "stream",
     "text": [
      "Generated raw train dataset saved at c:\\Users\\Luke\\multi_implicit_cot\\data\\raw_train_dataset.txt of size 777.\n",
      "Creating tokenized features from dataset file at c:\\Users\\Luke\\multi_implicit_cot\\data\\raw_train_dataset.txt\n",
      "tgt_avg:  21.0\n",
      "src_avg:  13.0\n",
      "ratios:  0.6190476190476191\n",
      "tgt_avg:  15.0\n",
      "src_avg:  13.0\n",
      "ratios:  0.8666666666666667\n",
      "---------------------------\n",
      "Example features:\n",
      "Full entry:  4 5 * 6 3 $$$ 5 3 * 0 8 <|endoftext|> 4 2 3 + 0 2 6 1 $$$ 0 0 0 + 0 0 8 2 <|endoftext|> #### 4 4 9 1 $$$ 0 0 8 2 <|endoftext|>\n",
      "No CoT:  4 5 * 6 3 $$$ 5 3 * 0 8 <|endoftext|> #### 4 4 9 1 $$$ 0 0 8 2 <|endoftext|>\n",
      "Only CoT:  4 5 * 6 3 $$$ 5 3 * 0 8 <|endoftext|> 4 2 3 + 0 2 6 1 $$$ 0 0 0 + 0 0 8 2 <|endoftext|>\n",
      "Product input:  4 5 * 6 3 $$$ 5 3 * 0 8 <|endoftext|> \n",
      "---------------------------\n",
      "Generated raw test dataset saved at c:\\Users\\Luke\\multi_implicit_cot\\data\\raw_test_dataset.txt of size 77.\n",
      "Creating tokenized features from dataset file at c:\\Users\\Luke\\multi_implicit_cot\\data\\raw_test_dataset.txt\n",
      "tgt_avg:  21.0\n",
      "src_avg:  13.0\n",
      "ratios:  0.6190476190476191\n",
      "tgt_avg:  15.0\n",
      "src_avg:  13.0\n",
      "ratios:  0.8666666666666667\n",
      "---------------------------\n",
      "Example features:\n",
      "Full entry:  2 5 * 8 3 $$$ 2 0 * 3 0 <|endoftext|> 6 1 4 + 0 6 5 1 $$$ 6 0 0 + 0 0 0 0 <|endoftext|> #### 6 7 9 1 $$$ 6 0 0 0 <|endoftext|>\n",
      "No CoT:  2 5 * 8 3 $$$ 2 0 * 3 0 <|endoftext|> #### 6 7 9 1 $$$ 6 0 0 0 <|endoftext|>\n",
      "Only CoT:  2 5 * 8 3 $$$ 2 0 * 3 0 <|endoftext|> 6 1 4 + 0 6 5 1 $$$ 6 0 0 + 0 0 0 0 <|endoftext|>\n",
      "Product input:  2 5 * 8 3 $$$ 2 0 * 3 0 <|endoftext|> \n",
      "---------------------------\n"
     ]
    }
   ],
   "source": [
    "datahandler_train.generateDataset(size = training_data_size)\n",
    "datahandler_test.generateDataset(size = test_data_size)"
   ]
  },
  {
   "cell_type": "markdown",
   "metadata": {},
   "source": [
    "Here we allow the creation of a custom prediction. The custom prediction is of the form **a*b** and **c*d**."
   ]
  },
  {
   "cell_type": "code",
   "execution_count": 5,
   "metadata": {},
   "outputs": [
    {
     "name": "stdout",
     "output_type": "stream",
     "text": [
      "Generated raw custom dataset saved at c:\\Users\\Luke\\multi_implicit_cot\\data\\raw_custom_dataset.txt of size 1.\n",
      "Creating tokenized features from dataset file at c:\\Users\\Luke\\multi_implicit_cot\\data\\raw_custom_dataset.txt\n",
      "tgt_avg:  21.0\n",
      "src_avg:  13.0\n",
      "ratios:  0.6190476190476191\n",
      "tgt_avg:  15.0\n",
      "src_avg:  13.0\n",
      "ratios:  0.8666666666666667\n",
      "---------------------------\n",
      "Example features:\n",
      "Full entry:  0 1 * 5 0 $$$ 9 0 * 8 9 <|endoftext|> 0 5 0 + 0 0 0 0 $$$ 2 7 0 + 0 1 8 0 <|endoftext|> #### 0 5 0 0 $$$ 2 8 8 0 <|endoftext|>\n",
      "No CoT:  0 1 * 5 0 $$$ 9 0 * 8 9 <|endoftext|> #### 0 5 0 0 $$$ 2 8 8 0 <|endoftext|>\n",
      "Only CoT:  0 1 * 5 0 $$$ 9 0 * 8 9 <|endoftext|> 0 5 0 + 0 0 0 0 $$$ 2 7 0 + 0 1 8 0 <|endoftext|>\n",
      "Product input:  0 1 * 5 0 $$$ 9 0 * 8 9 <|endoftext|> \n",
      "---------------------------\n"
     ]
    }
   ],
   "source": [
    "#Custom prediction \n",
    "a=10\n",
    "b=5\n",
    "c=9\n",
    "d=98\n",
    "\n",
    "custom_prediction = DatasetHandler(tokenizer = tokenizer, parent_path = parent_directory, max_len = 1024, type = 'custom')\n",
    "custom_prediction.generateDataset(a=10, b=5, c=9, d=98)"
   ]
  },
  {
   "cell_type": "markdown",
   "metadata": {},
   "source": [
    "### **Model Training**\n",
    "Here we begin training our individual models.\n",
    "\n",
    "---\n"
   ]
  },
  {
   "cell_type": "code",
   "execution_count": 6,
   "metadata": {},
   "outputs": [
    {
     "ename": "ImportError",
     "evalue": "cannot import name 'MindReaderEmulatorConfig' from 'source.configurations' (c:\\Users\\Luke\\multi_implicit_cot\\source\\configurations.py)",
     "output_type": "error",
     "traceback": [
      "\u001b[1;31m---------------------------------------------------------------------------\u001b[0m",
      "\u001b[1;31mImportError\u001b[0m                               Traceback (most recent call last)",
      "\u001b[1;32mc:\\Users\\Luke\\multi_implicit_cot\\predictions\\model_demo.ipynb Cell 11\u001b[0m line \u001b[0;36m7\n\u001b[0;32m      <a href='vscode-notebook-cell:/c%3A/Users/Luke/multi_implicit_cot/predictions/model_demo.ipynb#X13sZmlsZQ%3D%3D?line=3'>4</a>\u001b[0m \u001b[39mfrom\u001b[39;00m \u001b[39msource\u001b[39;00m\u001b[39m.\u001b[39;00m\u001b[39mthought_emulator\u001b[39;00m \u001b[39mimport\u001b[39;00m ThoughtEmulator\n\u001b[0;32m      <a href='vscode-notebook-cell:/c%3A/Users/Luke/multi_implicit_cot/predictions/model_demo.ipynb#X13sZmlsZQ%3D%3D?line=4'>5</a>\u001b[0m \u001b[39mfrom\u001b[39;00m \u001b[39msource\u001b[39;00m\u001b[39m.\u001b[39;00m\u001b[39mconfigurations\u001b[39;00m \u001b[39mimport\u001b[39;00m ThoughtEmulatorConfig\n\u001b[1;32m----> <a href='vscode-notebook-cell:/c%3A/Users/Luke/multi_implicit_cot/predictions/model_demo.ipynb#X13sZmlsZQ%3D%3D?line=6'>7</a>\u001b[0m \u001b[39mfrom\u001b[39;00m \u001b[39msource\u001b[39;00m\u001b[39m.\u001b[39;00m\u001b[39mmindreading_emulator\u001b[39;00m \u001b[39mimport\u001b[39;00m MindReadingEmulator\n\u001b[0;32m      <a href='vscode-notebook-cell:/c%3A/Users/Luke/multi_implicit_cot/predictions/model_demo.ipynb#X13sZmlsZQ%3D%3D?line=7'>8</a>\u001b[0m \u001b[39mfrom\u001b[39;00m \u001b[39msource\u001b[39;00m\u001b[39m.\u001b[39;00m\u001b[39mconfigurations\u001b[39;00m \u001b[39mimport\u001b[39;00m MindReadingEmulatoronfig\n",
      "File \u001b[1;32mc:\\Users\\Luke\\multi_implicit_cot\\source\\mindreading_emulator.py:29\u001b[0m\n\u001b[0;32m     26\u001b[0m \u001b[39mfrom\u001b[39;00m \u001b[39mdata\u001b[39;00m\u001b[39m.\u001b[39;00m\u001b[39mdata\u001b[39;00m \u001b[39mimport\u001b[39;00m CoTDataCollator\n\u001b[0;32m     27\u001b[0m \u001b[39mfrom\u001b[39;00m \u001b[39mdata\u001b[39;00m\u001b[39m.\u001b[39;00m\u001b[39mdata\u001b[39;00m \u001b[39mimport\u001b[39;00m extractAnswer\n\u001b[1;32m---> 29\u001b[0m \u001b[39mfrom\u001b[39;00m \u001b[39msource\u001b[39;00m\u001b[39m.\u001b[39;00m\u001b[39mconfigurations\u001b[39;00m \u001b[39mimport\u001b[39;00m MindReaderEmulatorConfig\n\u001b[0;32m     30\u001b[0m \u001b[39mfrom\u001b[39;00m \u001b[39msource\u001b[39;00m\u001b[39m.\u001b[39;00m\u001b[39mutils\u001b[39;00m \u001b[39mimport\u001b[39;00m get_sep_position, DoubleEOSStoppingCriteria, DoubleEOSLogitsProcessor, createAccuracyPlot, createLossPlot\n\u001b[0;32m     31\u001b[0m \u001b[39mfrom\u001b[39;00m \u001b[39msource\u001b[39;00m\u001b[39m.\u001b[39;00m\u001b[39mgpt2_implicit\u001b[39;00m \u001b[39mimport\u001b[39;00m GPT2LMHeadImplicitModel\n",
      "\u001b[1;31mImportError\u001b[0m: cannot import name 'MindReaderEmulatorConfig' from 'source.configurations' (c:\\Users\\Luke\\multi_implicit_cot\\source\\configurations.py)"
     ]
    }
   ],
   "source": [
    "from source.teacher import Teacher\n",
    "from source.configurations import TeacherConfig\n",
    "\n",
    "from source.thought_emulator import ThoughtEmulator\n",
    "from source.configurations import ThoughtEmulatorConfig\n",
    "\n",
    "from source.mindreading_emulator import MindReadingEmulator\n",
    "from source.configurations import MindReadingEmulatorConfig\n"
   ]
  },
  {
   "cell_type": "code",
   "execution_count": null,
   "metadata": {},
   "outputs": [],
   "source": [
    "teacher_config = TeacherConfig()\n",
    "teacher_model = Teacher(teacher_config)\n",
    "\n",
    "t_emulator_config = ThoughtEmulatorConfig()\n",
    "t_emulator_model = ThoughtEmulator(t_emulator_config, teacher_model)\n",
    "\n",
    "mr_emulator_config = MindReadingEmulatorConfig()\n",
    "mr_emulator_model = MindReadingEmulator(t_emulator_config, teacher_model)"
   ]
  },
  {
   "cell_type": "markdown",
   "metadata": {},
   "source": [
    "##### **Teacher Model**\n",
    "This model takes in inputs and generates a CoT and product as output."
   ]
  },
  {
   "cell_type": "code",
   "execution_count": null,
   "metadata": {},
   "outputs": [
    {
     "name": "stderr",
     "output_type": "stream",
     "text": [
      "  4%|▍         | 1/25 [00:01<00:35,  1.47s/it]"
     ]
    },
    {
     "name": "stdout",
     "output_type": "stream",
     "text": [
      "Step: 0. PPL: 91.086479. Training Accuracy: 0.193015\n"
     ]
    },
    {
     "name": "stderr",
     "output_type": "stream",
     "text": [
      " 12%|█▏        | 3/25 [00:02<00:12,  1.72it/s]"
     ]
    },
    {
     "name": "stdout",
     "output_type": "stream",
     "text": [
      "Step: 2. PPL: 19.449072. Training Accuracy: 0.284926\n"
     ]
    },
    {
     "name": "stderr",
     "output_type": "stream",
     "text": [
      " 20%|██        | 5/25 [00:02<00:08,  2.36it/s]"
     ]
    },
    {
     "name": "stdout",
     "output_type": "stream",
     "text": [
      "Step: 4. PPL: 10.288027. Training Accuracy: 0.352022\n"
     ]
    },
    {
     "name": "stderr",
     "output_type": "stream",
     "text": [
      " 28%|██▊       | 7/25 [00:03<00:06,  2.71it/s]"
     ]
    },
    {
     "name": "stdout",
     "output_type": "stream",
     "text": [
      "Step: 6. PPL: 7.558305. Training Accuracy: 0.375919\n"
     ]
    },
    {
     "name": "stderr",
     "output_type": "stream",
     "text": [
      " 36%|███▌      | 9/25 [00:04<00:05,  2.89it/s]"
     ]
    },
    {
     "name": "stdout",
     "output_type": "stream",
     "text": [
      "Step: 8. PPL: 5.846033. Training Accuracy: 0.441176\n"
     ]
    },
    {
     "name": "stderr",
     "output_type": "stream",
     "text": [
      " 44%|████▍     | 11/25 [00:04<00:04,  2.99it/s]"
     ]
    },
    {
     "name": "stdout",
     "output_type": "stream",
     "text": [
      "Step: 10. PPL: 5.238699. Training Accuracy: 0.465074\n"
     ]
    },
    {
     "name": "stderr",
     "output_type": "stream",
     "text": [
      " 52%|█████▏    | 13/25 [00:05<00:03,  3.04it/s]"
     ]
    },
    {
     "name": "stdout",
     "output_type": "stream",
     "text": [
      "Step: 12. PPL: 4.860101. Training Accuracy: 0.488051\n"
     ]
    },
    {
     "name": "stderr",
     "output_type": "stream",
     "text": [
      " 60%|██████    | 15/25 [00:06<00:03,  3.06it/s]"
     ]
    },
    {
     "name": "stdout",
     "output_type": "stream",
     "text": [
      "Step: 14. PPL: 4.376841. Training Accuracy: 0.531250\n"
     ]
    },
    {
     "name": "stderr",
     "output_type": "stream",
     "text": [
      " 68%|██████▊   | 17/25 [00:06<00:02,  3.08it/s]"
     ]
    },
    {
     "name": "stdout",
     "output_type": "stream",
     "text": [
      "Step: 16. PPL: 4.251329. Training Accuracy: 0.522059\n"
     ]
    },
    {
     "name": "stderr",
     "output_type": "stream",
     "text": [
      " 76%|███████▌  | 19/25 [00:07<00:01,  3.10it/s]"
     ]
    },
    {
     "name": "stdout",
     "output_type": "stream",
     "text": [
      "Step: 18. PPL: 3.899797. Training Accuracy: 0.574449\n"
     ]
    },
    {
     "name": "stderr",
     "output_type": "stream",
     "text": [
      " 84%|████████▍ | 21/25 [00:07<00:01,  3.09it/s]"
     ]
    },
    {
     "name": "stdout",
     "output_type": "stream",
     "text": [
      "Step: 20. PPL: 3.829326. Training Accuracy: 0.574449\n"
     ]
    },
    {
     "name": "stderr",
     "output_type": "stream",
     "text": [
      " 92%|█████████▏| 23/25 [00:08<00:00,  3.09it/s]"
     ]
    },
    {
     "name": "stdout",
     "output_type": "stream",
     "text": [
      "Step: 22. PPL: 3.560847. Training Accuracy: 0.592831\n"
     ]
    },
    {
     "name": "stderr",
     "output_type": "stream",
     "text": [
      "100%|██████████| 25/25 [00:09<00:00,  2.74it/s]\n"
     ]
    },
    {
     "name": "stdout",
     "output_type": "stream",
     "text": [
      "Step: 24. PPL: 3.462947. Training Accuracy: 0.607843\n",
      "Evaluating test dataset now...\n"
     ]
    },
    {
     "name": "stderr",
     "output_type": "stream",
     "text": [
      " 33%|███▎      | 1/3 [00:00<00:01,  1.96it/s]"
     ]
    },
    {
     "name": "stdout",
     "output_type": "stream",
     "text": [
      "Input:  6 2 * 3 8 $$$ 9 7 * 4 2 \n",
      "Target:  8 7 0 + 0 8 0 2 $$$ 6 1 3 + 0 8 5 1  #### 8 5 1 2 $$$ 6 9 8 1 \n",
      "Predicted:  0 0 0 + 0 0 0 0 0 $$$ 0 0 0 + 0 0 0 0  #### 0 0 0 0 $$$ 0 0 0 0 \n",
      "\n"
     ]
    },
    {
     "name": "stderr",
     "output_type": "stream",
     "text": [
      " 67%|██████▋   | 2/3 [00:01<00:00,  1.97it/s]"
     ]
    },
    {
     "name": "stdout",
     "output_type": "stream",
     "text": [
      "Input:  7 9 * 5 3 $$$ 4 6 * 1 6 \n",
      "Target:  5 8 4 + 0 1 9 2 $$$ 4 6 0 + 0 4 8 3  #### 5 9 3 3 $$$ 4 0 9 3 \n",
      "Predicted:  4 6 9 + 0 4 6 0 $$$ 4 6 + 0 6 0 0  #### 4 6 0 $$$ 4 6 0 \n",
      "\n"
     ]
    },
    {
     "name": "stderr",
     "output_type": "stream",
     "text": [
      "100%|██████████| 3/3 [00:01<00:00,  2.04it/s]"
     ]
    },
    {
     "name": "stdout",
     "output_type": "stream",
     "text": [
      "Input:  5 1 * 3 4 $$$ 7 7 * 6 4 \n",
      "Target:  5 4 0 + 0 0 6 0 $$$ 2 6 4 + 0 8 0 3  #### 5 4 6 0 $$$ 2 4 5 3 \n",
      "Predicted:  0 0 0 + 0 0 0 0 0 $$$ 0 0 0 + 0 0 0 0  #### 0 0 0 0 $$$ 0 0 0 0 \n",
      "\n",
      "Perplexitity: 3.021701; Test Accuracy: 0.000000; Training Accuracy: 0.637510.\n",
      "Saving to c:\\Users\\Luke\\multi_implicit_cot\\models\\teacher\n"
     ]
    },
    {
     "name": "stderr",
     "output_type": "stream",
     "text": [
      "\n"
     ]
    },
    {
     "data": {
      "image/png": "[encoded data removed]",
      "text/plain": [
       "<Figure size 640x480 with 1 Axes>"
      ]
     },
     "metadata": {},
     "output_type": "display_data"
    },
    {
     "data": {
      "image/png": "[encoded data removed]",
      "text/plain": [
       "<Figure size 640x480 with 1 Axes>"
      ]
     },
     "metadata": {},
     "output_type": "display_data"
    }
   ],
   "source": [
    "teacher_model.train(train_handler = datahandler_train, test_handler = datahandler_test, limit = 0.99)"
   ]
  },
  {
   "cell_type": "markdown",
   "metadata": {},
   "source": [
    "##### **Thought Emulator Model**\n",
    "This model takes the input and predicts the teacher states. We calculate a proxy for accuracy by taking the mean difference in layer states between the teacher model and itself."
   ]
  },
  {
   "cell_type": "code",
   "execution_count": null,
   "metadata": {},
   "outputs": [
    {
     "name": "stderr",
     "output_type": "stream",
     "text": [
      "  4%|▍         | 1/25 [00:00<00:18,  1.33it/s]"
     ]
    },
    {
     "name": "stdout",
     "output_type": "stream",
     "text": [
      "Step: 0. Loss: 7080.890625. Quasi Training Accuracy: 0.150236.\n"
     ]
    },
    {
     "name": "stderr",
     "output_type": "stream",
     "text": [
      " 12%|█▏        | 3/25 [00:01<00:09,  2.20it/s]"
     ]
    },
    {
     "name": "stdout",
     "output_type": "stream",
     "text": [
      "Step: 2. Loss: 5278.785156. Quasi Training Accuracy: 0.284839.\n"
     ]
    },
    {
     "name": "stderr",
     "output_type": "stream",
     "text": [
      " 20%|██        | 5/25 [00:02<00:07,  2.50it/s]"
     ]
    },
    {
     "name": "stdout",
     "output_type": "stream",
     "text": [
      "Step: 4. Loss: 4540.824219. Quasi Training Accuracy: 0.350867.\n"
     ]
    },
    {
     "name": "stderr",
     "output_type": "stream",
     "text": [
      " 28%|██▊       | 7/25 [00:02<00:06,  2.62it/s]"
     ]
    },
    {
     "name": "stdout",
     "output_type": "stream",
     "text": [
      "Step: 6. Loss: 3866.863281. Quasi Training Accuracy: 0.414547.\n"
     ]
    },
    {
     "name": "stderr",
     "output_type": "stream",
     "text": [
      " 36%|███▌      | 9/25 [00:03<00:05,  2.68it/s]"
     ]
    },
    {
     "name": "stdout",
     "output_type": "stream",
     "text": [
      "Step: 8. Loss: 3186.505859. Quasi Training Accuracy: 0.473432.\n"
     ]
    },
    {
     "name": "stderr",
     "output_type": "stream",
     "text": [
      " 44%|████▍     | 11/25 [00:04<00:05,  2.70it/s]"
     ]
    },
    {
     "name": "stdout",
     "output_type": "stream",
     "text": [
      "Step: 10. Loss: 2510.638184. Quasi Training Accuracy: 0.532288.\n"
     ]
    },
    {
     "name": "stderr",
     "output_type": "stream",
     "text": [
      " 52%|█████▏    | 13/25 [00:05<00:04,  2.72it/s]"
     ]
    },
    {
     "name": "stdout",
     "output_type": "stream",
     "text": [
      "Step: 12. Loss: 1916.371460. Quasi Training Accuracy: 0.586099.\n"
     ]
    },
    {
     "name": "stderr",
     "output_type": "stream",
     "text": [
      " 60%|██████    | 15/25 [00:05<00:03,  2.72it/s]"
     ]
    },
    {
     "name": "stdout",
     "output_type": "stream",
     "text": [
      "Step: 14. Loss: 1460.337158. Quasi Training Accuracy: 0.630356.\n"
     ]
    },
    {
     "name": "stderr",
     "output_type": "stream",
     "text": [
      " 68%|██████▊   | 17/25 [00:06<00:02,  2.72it/s]"
     ]
    },
    {
     "name": "stdout",
     "output_type": "stream",
     "text": [
      "Step: 16. Loss: 1116.545410. Quasi Training Accuracy: 0.672931.\n"
     ]
    },
    {
     "name": "stderr",
     "output_type": "stream",
     "text": [
      " 76%|███████▌  | 19/25 [00:07<00:02,  2.73it/s]"
     ]
    },
    {
     "name": "stdout",
     "output_type": "stream",
     "text": [
      "Step: 18. Loss: 878.254272. Quasi Training Accuracy: 0.703203.\n"
     ]
    },
    {
     "name": "stderr",
     "output_type": "stream",
     "text": [
      " 84%|████████▍ | 21/25 [00:08<00:01,  2.72it/s]"
     ]
    },
    {
     "name": "stdout",
     "output_type": "stream",
     "text": [
      "Step: 20. Loss: 717.738159. Quasi Training Accuracy: 0.724446.\n"
     ]
    },
    {
     "name": "stderr",
     "output_type": "stream",
     "text": [
      " 92%|█████████▏| 23/25 [00:08<00:00,  2.73it/s]"
     ]
    },
    {
     "name": "stdout",
     "output_type": "stream",
     "text": [
      "Step: 22. Loss: 620.257629. Quasi Training Accuracy: 0.741661.\n"
     ]
    },
    {
     "name": "stderr",
     "output_type": "stream",
     "text": [
      "100%|██████████| 25/25 [00:09<00:00,  2.64it/s]\n"
     ]
    },
    {
     "name": "stdout",
     "output_type": "stream",
     "text": [
      "Step: 24. Loss: 518.722046. Quasi Training Accuracy: 0.762646.\n",
      "Evaluating test dataset now...\n"
     ]
    },
    {
     "name": "stderr",
     "output_type": "stream",
     "text": [
      "100%|██████████| 3/3 [00:00<00:00,  9.34it/s]\n"
     ]
    },
    {
     "name": "stdout",
     "output_type": "stream",
     "text": [
      "Loss: 424.457913; Quasi Test Accuracy: 0.789455; Quasi Training Accuracy: 0.762646.\n",
      "Saving to c:\\Users\\Luke\\multi_implicit_cot\\models\\emulator\n"
     ]
    },
    {
     "data": {
      "image/png": "[encoded data removed]",
      "text/plain": [
       "<Figure size 640x480 with 1 Axes>"
      ]
     },
     "metadata": {},
     "output_type": "display_data"
    },
    {
     "data": {
      "image/png": "[encoded data removed]",
      "text/plain": [
       "<Figure size 640x480 with 1 Axes>"
      ]
     },
     "metadata": {},
     "output_type": "display_data"
    }
   ],
   "source": [
    "t_emulator_model.train(train_handler = datahandler_train, test_handler = datahandler_test, limit = 0.99)"
   ]
  },
  {
   "cell_type": "markdown",
   "metadata": {},
   "source": [
    "##### **Mind Reading Emulator Model**\n",
    "This model takes in the teacher states as input and predicts the output."
   ]
  },
  {
   "cell_type": "code",
   "execution_count": null,
   "metadata": {},
   "outputs": [],
   "source": [
    "mr_emulator_model.train(train_handler = datahandler_train, test_handler = datahandler_test, limit = 0.99)"
   ]
  },
  {
   "cell_type": "markdown",
   "metadata": {},
   "source": [
    "### **Prediction Demo**\n",
    "Here we generate our custom test case to see results for each model. We include both the **thought emulator** and **mind reading emulator** to see how well it maps to states.\n",
    "\n",
    "---"
   ]
  },
  {
   "cell_type": "code",
   "execution_count": null,
   "metadata": {},
   "outputs": [
    {
     "name": "stderr",
     "output_type": "stream",
     "text": [
      "100%|██████████| 1/1 [00:00<00:00,  1.72it/s]"
     ]
    },
    {
     "name": "stdout",
     "output_type": "stream",
     "text": [
      "Input:  0 1 * 5 0 $$$ 9 0 * 8 9 \n",
      "Target:  0 5 0 + 0 0 0 0 $$$ 2 7 0 + 0 1 8 0  #### 0 5 0 0 $$$ 2 8 8 0 \n",
      "Predicted:  0 0 0 + 0 0 0 0 0 $$$ 0 0 0 + 0 0 0 0  #### 0 0 0 0 $$$ 0 0 0 0 \n",
      "\n"
     ]
    },
    {
     "name": "stderr",
     "output_type": "stream",
     "text": [
      "\n"
     ]
    }
   ],
   "source": [
    "teacher_model.predict(custom_prediction)"
   ]
  },
  {
   "cell_type": "code",
   "execution_count": null,
   "metadata": {},
   "outputs": [
    {
     "name": "stderr",
     "output_type": "stream",
     "text": [
      "100%|██████████| 1/1 [00:00<00:00, 14.75it/s]"
     ]
    },
    {
     "name": "stdout",
     "output_type": "stream",
     "text": [
      "tensor([  657,   352,  1635,   642,   657,   720, 13702,   860,   657,  1635,\n",
      "          807,   860,   220, 50256,   657,   642,   657,  1343,   657,   657,\n",
      "          657,   657,   720, 13702,   362,   767,   657,  1343,   657,   352,\n",
      "          807,   657,   220, 50256], device='cuda:0')\n",
      "Input:  0 1 * 5 0 $$$ 9 0 * 8 9  \n",
      "Target H. Layer 1, V. Layer 1, first 9 states:\n",
      "[ 0.325  -0.0419  0.9007 -0.2563 -0.3507  0.2178 -1.2929 -0.3146 -0.3506]\n",
      "Predicted H. Layer 1, V. Layer 1, first 9 states: \n",
      "[ 0.3326 -0.0895  1.0579 -0.3567 -0.4421  0.3444 -1.3945 -0.2332 -0.2096]\n"
     ]
    },
    {
     "name": "stderr",
     "output_type": "stream",
     "text": [
      "\n"
     ]
    }
   ],
   "source": [
    "t_emulator_model.predict(custom_prediction)"
   ]
  }
 ],
 "metadata": {
  "kernelspec": {
   "display_name": "Python 3",
   "language": "python",
   "name": "python3"
  },
  "language_info": {
   "codemirror_mode": {
    "name": "ipython",
    "version": 3
   },
   "file_extension": ".py",
   "mimetype": "text/x-python",
   "name": "python",
   "nbconvert_exporter": "python",
   "pygments_lexer": "ipython3",
   "version": "3.10.11"
  }
 },
 "nbformat": 4,
 "nbformat_minor": 2
}
