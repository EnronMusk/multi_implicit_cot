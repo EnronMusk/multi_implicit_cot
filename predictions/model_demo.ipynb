{
 "cells": [
  {
   "cell_type": "markdown",
   "metadata": {},
   "source": [
    "# **Multi-inference implicit chain of reasoning demonstration**\n",
    "\n",
    "Here I attempt to solve this challenge [here](https://yuntiandeng.com/cv/challenge.png) by referencing the research paper and source code linked below.\n",
    "\n",
    "| ||\n",
    "|----------|----------|\n",
    "| Research Credit | [here](https://arxiv.org/pdf/2311.01460.pdf) |\n",
    "| Code Inspiration Credit | [github](https://github.com/da03/implicit_chain_of_thought/tree/main) |"
   ]
  },
  {
   "cell_type": "code",
   "execution_count": 1,
   "metadata": {},
   "outputs": [],
   "source": [
    "import sys\n",
    "import os\n",
    "\n",
    "#For safe imports\n",
    "notebook_directory = os.getcwd()\n",
    "parent_directory = os.path.dirname(notebook_directory)\n",
    "sys.path.insert(False, parent_directory)\n"
   ]
  },
  {
   "cell_type": "code",
   "execution_count": 2,
   "metadata": {},
   "outputs": [],
   "source": [
    "parent_directory = os.path.dirname(notebook_directory)"
   ]
  },
  {
   "cell_type": "markdown",
   "metadata": {},
   "source": [
    "### **Dataset Generation**\n",
    "Here we generate our test and train data. We generate our training data randomly such that it represents less than **1%** of possible observations. We also generate our tokenized data here as well.\n",
    "\n",
    "---\n",
    "\n",
    "The format of training and test datasets follow this format:\n",
    "\n",
    "```\n",
    "[input 1a] $$$ [input 1b]||[CoT 1a] $$$ [CoT 1b] #### [output 1a] $$$ [output 1b]\n",
    "[input 2a] $$$ [input 2b]||[CoT 2a] $$$ [CoT 2b] #### [output 2a] $$$ [output 2b]\n",
    "[input 3a] $$$ [input 3b]||[CoT 3a] $$$ [CoT 3b] #### [output 3a] $$$ [output 3b]\n",
    "```"
   ]
  },
  {
   "cell_type": "code",
   "execution_count": 3,
   "metadata": {},
   "outputs": [
    {
     "name": "stdout",
     "output_type": "stream",
     "text": [
      "Generated raw train dataset saved at c:\\Users\\Luke\\multi_implicit_cot\\data\\raw_train_dataset.txt of size 77700.\n",
      "Creating tokenized features from dataset file at c:\\Users\\Luke\\multi_implicit_cot\\data\\raw_train_dataset.txt\n",
      "tgt_avg:  21.0\n",
      "src_avg:  13.0\n",
      "ratios:  0.6190476190476191\n",
      "tgt_avg:  15.0\n",
      "src_avg:  13.0\n",
      "ratios:  0.8666666666666667\n",
      "---------------------------\n",
      "Example features:\n",
      "Full entry:  3 1 * 2 4 $$$ 3 0 * 6 9 <|endoftext|> 6 2 0 + 0 2 5 0 $$$ 8 1 0 + 0 7 2 0 <|endoftext|> #### 6 4 5 0 $$$ 8 8 2 0 <|endoftext|>\n",
      "No CoT:  3 1 * 2 4 $$$ 3 0 * 6 9 <|endoftext|> #### 6 4 5 0 $$$ 8 8 2 0 <|endoftext|>\n",
      "Only CoT:  3 1 * 2 4 $$$ 3 0 * 6 9 <|endoftext|> 6 2 0 + 0 2 5 0 $$$ 8 1 0 + 0 7 2 0 <|endoftext|>\n",
      "Product input:  3 1 * 2 4 $$$ 3 0 * 6 9 <|endoftext|> \n",
      "---------------------------\n",
      "Generated raw test dataset saved at c:\\Users\\Luke\\multi_implicit_cot\\data\\raw_test_dataset.txt of size 7700.\n",
      "Creating tokenized features from dataset file at c:\\Users\\Luke\\multi_implicit_cot\\data\\raw_test_dataset.txt\n",
      "tgt_avg:  21.0\n",
      "src_avg:  13.0\n",
      "ratios:  0.6190476190476191\n",
      "tgt_avg:  15.0\n",
      "src_avg:  13.0\n",
      "ratios:  0.8666666666666667\n",
      "---------------------------\n",
      "Example features:\n",
      "Full entry:  5 7 * 0 6 $$$ 3 4 * 6 7 <|endoftext|> 0 0 0 + 0 0 5 4 $$$ 8 5 2 + 0 1 0 3 <|endoftext|> #### 0 0 5 4 $$$ 8 6 2 3 <|endoftext|>\n",
      "No CoT:  5 7 * 0 6 $$$ 3 4 * 6 7 <|endoftext|> #### 0 0 5 4 $$$ 8 6 2 3 <|endoftext|>\n",
      "Only CoT:  5 7 * 0 6 $$$ 3 4 * 6 7 <|endoftext|> 0 0 0 + 0 0 5 4 $$$ 8 5 2 + 0 1 0 3 <|endoftext|>\n",
      "Product input:  5 7 * 0 6 $$$ 3 4 * 6 7 <|endoftext|> \n",
      "---------------------------\n"
     ]
    }
   ],
   "source": [
    "from data.data import DatasetHandler\n",
    "from transformers import AutoTokenizer\n",
    "tokenizer = AutoTokenizer.from_pretrained('gpt2')\n",
    "\n",
    "training_data_size = 777\n",
    "test_data_size = 77\n",
    "\n",
    "datahandler_train = DatasetHandler(tokenizer = tokenizer, parent_path = parent_directory, max_len = 1024, type = 'train')\n",
    "datahandler_test = DatasetHandler(tokenizer = tokenizer, parent_path = parent_directory, max_len = 1024, type = 'test')\n",
    "\n",
    "datahandler_train.generateDataset(size = training_data_size)\n",
    "datahandler_test.generateDataset(size = test_data_size)"
   ]
  },
  {
   "cell_type": "markdown",
   "metadata": {},
   "source": [
    "### **Model Training**\n",
    "Here we begin training our individual models.\n",
    "\n",
    "---\n"
   ]
  },
  {
   "cell_type": "code",
   "execution_count": 4,
   "metadata": {},
   "outputs": [],
   "source": [
    "from source.teacher import Teacher\n",
    "from source.configurations import TeacherConfig\n",
    "\n",
    "teacher_config = TeacherConfig()\n",
    "teacher_model = Teacher(teacher_config)"
   ]
  },
  {
   "cell_type": "code",
   "execution_count": 5,
   "metadata": {},
   "outputs": [
    {
     "name": "stderr",
     "output_type": "stream",
     "text": [
      "  0%|          | 1/2429 [00:01<1:01:34,  1.52s/it]"
     ]
    },
    {
     "name": "stdout",
     "output_type": "stream",
     "text": [
      "Step: 0. PPL: 87.105179. Training Accuracy: 0.201287\n"
     ]
    },
    {
     "name": "stderr",
     "output_type": "stream",
     "text": [
      " 10%|█         | 251/2429 [01:15<10:34,  3.43it/s]"
     ]
    },
    {
     "name": "stdout",
     "output_type": "stream",
     "text": [
      "Step: 250. PPL: 1.741662. Training Accuracy: 0.784007\n"
     ]
    },
    {
     "name": "stderr",
     "output_type": "stream",
     "text": [
      " 21%|██        | 501/2429 [02:30<10:07,  3.17it/s]"
     ]
    },
    {
     "name": "stdout",
     "output_type": "stream",
     "text": [
      "Step: 500. PPL: 1.315225. Training Accuracy: 0.895221\n"
     ]
    },
    {
     "name": "stderr",
     "output_type": "stream",
     "text": [
      " 31%|███       | 751/2429 [03:45<08:34,  3.26it/s]"
     ]
    },
    {
     "name": "stdout",
     "output_type": "stream",
     "text": [
      "Step: 750. PPL: 1.152968. Training Accuracy: 0.947610\n"
     ]
    },
    {
     "name": "stderr",
     "output_type": "stream",
     "text": [
      " 41%|████      | 1001/2429 [05:01<06:53,  3.45it/s]"
     ]
    },
    {
     "name": "stdout",
     "output_type": "stream",
     "text": [
      "Step: 1000. PPL: 1.078810. Training Accuracy: 0.969669\n"
     ]
    },
    {
     "name": "stderr",
     "output_type": "stream",
     "text": [
      " 50%|████▉     | 1206/2429 [06:01<06:06,  3.34it/s]\n"
     ]
    },
    {
     "name": "stdout",
     "output_type": "stream",
     "text": [
      "Accuracy limit reached, stopping training at training accuracy: 0.993566.\n"
     ]
    },
    {
     "name": "stderr",
     "output_type": "stream",
     "text": [
      "  0%|          | 1/241 [00:00<02:00,  1.99it/s]"
     ]
    },
    {
     "name": "stdout",
     "output_type": "stream",
     "text": [
      "Input:  5 7 * 0 6 $$$ 3 4 * 6 7 \n",
      "Target:  0 0 0 + 0 0 5 4 $$$ 8 5 2 + 0 1 0 3  #### 0 0 5 4 $$$ 8 6 2 3 \n",
      "Predicted:  0 0 0 + 0 0 5 4 $$$ 8 5 2 + 0 1 0 3  #### 0 0 5 4 $$$ 8 6 2 3 \n",
      "\n"
     ]
    },
    {
     "name": "stderr",
     "output_type": "stream",
     "text": [
      "  1%|          | 2/241 [00:00<01:58,  2.02it/s]"
     ]
    },
    {
     "name": "stdout",
     "output_type": "stream",
     "text": [
      "Input:  6 0 * 8 0 $$$ 1 9 * 3 3 \n",
      "Target:  8 4 0 + 0 0 0 0 $$$ 3 7 2 + 0 3 7 2  #### 8 4 0 0 $$$ 3 0 0 3 \n",
      "Predicted:  8 4 0 + 0 0 0 0 $$$ 3 7 2 + 0 3 7 2  #### 8 4 0 0 $$$ 3 0 0 3 \n",
      "\n"
     ]
    },
    {
     "name": "stderr",
     "output_type": "stream",
     "text": [
      "  1%|          | 3/241 [00:01<01:54,  2.07it/s]"
     ]
    },
    {
     "name": "stdout",
     "output_type": "stream",
     "text": [
      "Input:  8 2 * 3 2 $$$ 3 4 * 4 1 \n",
      "Target:  4 8 0 + 0 6 5 0 $$$ 2 7 1 + 0 3 4 0  #### 4 4 6 0 $$$ 2 0 6 0 \n",
      "Predicted:  4 8 0 + 0 6 5 0 $$$ 2 7 1 + 0 3 4 0  #### 4 4 6 0 $$$ 2 0 6 0 \n",
      "\n"
     ]
    },
    {
     "name": "stderr",
     "output_type": "stream",
     "text": [
      "  2%|▏         | 4/241 [00:01<01:53,  2.09it/s]"
     ]
    },
    {
     "name": "stdout",
     "output_type": "stream",
     "text": [
      "Input:  7 4 * 6 2 $$$ 5 7 * 8 5 \n",
      "Target:  2 8 2 + 0 4 9 0 $$$ 0 0 6 + 0 5 7 3  #### 2 2 2 1 $$$ 0 5 3 4 \n",
      "Predicted:  2 9 2 + 0 4 9 0 $$$ 0 0 6 + 0 5 7 3  #### 2 3 2 1 $$$ 0 5 3 4 \n",
      "\n"
     ]
    },
    {
     "name": "stderr",
     "output_type": "stream",
     "text": [
      "100%|██████████| 241/241 [01:56<00:00,  2.06it/s]\n"
     ]
    },
    {
     "name": "stdout",
     "output_type": "stream",
     "text": [
      "Val. PPL: 1.016108; Accuracy: 0.855584; Training Accuracy: 0.995199.\n",
      "Saving to c:\\Users\\Luke\\multi_implicit_cot\\teacher_model\n"
     ]
    },
    {
     "data": {
      "image/png": "[encoded data removed]",
      "text/plain": [
       "<Figure size 640x480 with 1 Axes>"
      ]
     },
     "metadata": {},
     "output_type": "display_data"
    },
    {
     "data": {
      "image/png": "[encoded data removed]",
      "text/plain": [
       "<Figure size 640x480 with 1 Axes>"
      ]
     },
     "metadata": {},
     "output_type": "display_data"
    }
   ],
   "source": [
    "teacher_model.train(train_handler = datahandler_train, test_handler = datahandler_test, limit = 0.99)"
   ]
  },
  {
   "cell_type": "code",
   "execution_count": 6,
   "metadata": {},
   "outputs": [
    {
     "name": "stdout",
     "output_type": "stream",
     "text": [
      "Generated raw custom dataset saved at c:\\Users\\Luke\\multi_implicit_cot\\data\\raw_custom_dataset.txt of size 1.\n",
      "Creating tokenized features from dataset file at c:\\Users\\Luke\\multi_implicit_cot\\data\\raw_custom_dataset.txt\n",
      "tgt_avg:  21.0\n",
      "src_avg:  13.0\n",
      "ratios:  0.6190476190476191\n",
      "tgt_avg:  15.0\n",
      "src_avg:  13.0\n",
      "ratios:  0.8666666666666667\n",
      "---------------------------\n",
      "Example features:\n",
      "Full entry:  0 1 * 5 0 $$$ 9 0 * 8 9 <|endoftext|> 0 5 0 + 0 0 0 0 $$$ 2 7 0 + 0 1 8 0 <|endoftext|> #### 0 5 0 0 $$$ 2 8 8 0 <|endoftext|>\n",
      "No CoT:  0 1 * 5 0 $$$ 9 0 * 8 9 <|endoftext|> #### 0 5 0 0 $$$ 2 8 8 0 <|endoftext|>\n",
      "Only CoT:  0 1 * 5 0 $$$ 9 0 * 8 9 <|endoftext|> 0 5 0 + 0 0 0 0 $$$ 2 7 0 + 0 1 8 0 <|endoftext|>\n",
      "Product input:  0 1 * 5 0 $$$ 9 0 * 8 9 <|endoftext|> \n",
      "---------------------------\n"
     ]
    },
    {
     "name": "stderr",
     "output_type": "stream",
     "text": [
      "100%|██████████| 1/1 [00:00<00:00,  2.48it/s]"
     ]
    },
    {
     "name": "stdout",
     "output_type": "stream",
     "text": [
      "Input:  0 1 * 5 0 $$$ 9 0 * 8 9 \n",
      "Target:  0 5 0 + 0 0 0 0 $$$ 2 7 0 + 0 1 8 0  #### 0 5 0 0 $$$ 2 8 8 0 \n",
      "Predicted:  0 5 0 + 0 0 0 0 $$$ 2 7 0 + 0 1 8 0  #### 0 5 0 0 $$$ 2 8 8 0 \n",
      "\n"
     ]
    },
    {
     "name": "stderr",
     "output_type": "stream",
     "text": [
      "\n"
     ]
    }
   ],
   "source": [
    "custom_prediction = DatasetHandler(tokenizer = tokenizer, parent_path = parent_directory, max_len = 1024, type = 'custom')\n",
    "custom_prediction.generateDataset(a=10, b=5, c=9, d=98)\n",
    "teacher_model.predict(custom_prediction)"
   ]
  }
 ],
 "metadata": {
  "kernelspec": {
   "display_name": "Python 3",
   "language": "python",
   "name": "python3"
  },
  "language_info": {
   "codemirror_mode": {
    "name": "ipython",
    "version": 3
   },
   "file_extension": ".py",
   "mimetype": "text/x-python",
   "name": "python",
   "nbconvert_exporter": "python",
   "pygments_lexer": "ipython3",
   "version": "3.10.11"
  }
 },
 "nbformat": 4,
 "nbformat_minor": 2
}
