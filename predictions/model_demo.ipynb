{
 "cells": [
  {
   "cell_type": "markdown",
   "metadata": {},
   "source": [
    "# **Multi-inference implicit chain of reasoning LM demonstration**\n",
    "\n",
    "Source: [github](https://github.com/EnronMusk/multi_implicit_cot/tree/main)"
   ]
  },
  {
   "cell_type": "code",
   "execution_count": 1,
   "metadata": {},
   "outputs": [],
   "source": [
    "import sys\n",
    "\n",
    "directory_path = r\"C:\\Users\\Luke\\multi_implicit_cot\"\n",
    "sys.path.insert(False, directory_path)\n"
   ]
  },
  {
   "cell_type": "markdown",
   "metadata": {},
   "source": [
    "### **Dataset Generation**\n",
    "Here we generate our test and train data. We generate our training data randomly such that it represents less than **1%** of possible observations. We also generate our tokenized data here as well.\n",
    "\n",
    "---\n",
    "\n",
    "The format of training and test datasets follow this format:\n",
    "\n",
    "```\n",
    "[input 1a] $$$ [input 1b]||[CoT 1a] $$$ [CoT 1b] #### [output 1a] $$$ [output 1b]\n",
    "[input 2a] $$$ [input 2b]||[CoT 2a] $$$ [CoT 2b] #### [output 2a] $$$ [output 2b]\n",
    "[input 3a] $$$ [input 3b]||[CoT 3a] $$$ [CoT 3b] #### [output 3a] $$$ [output 3b]\n",
    "```"
   ]
  },
  {
   "cell_type": "code",
   "execution_count": 2,
   "metadata": {},
   "outputs": [],
   "source": [
    "from data.data import DatasetGenerator\n",
    "\n",
    "training_data_size = 777000\n",
    "test_data_size = 77000\n",
    "\n",
    "data_path = directory_path\n",
    "datagen = DatasetGenerator(tokenizer = None, path = data_path, max_len = 1)\n",
    "\n",
    "datagen.generateTrainDataset(size = training_data_size)\n",
    "datagen.generateTestDataset(size = test_data_size)"
   ]
  }
 ],
 "metadata": {
  "kernelspec": {
   "display_name": "Python 3",
   "language": "python",
   "name": "python3"
  },
  "language_info": {
   "codemirror_mode": {
    "name": "ipython",
    "version": 3
   },
   "file_extension": ".py",
   "mimetype": "text/x-python",
   "name": "python",
   "nbconvert_exporter": "python",
   "pygments_lexer": "ipython3",
   "version": "3.10.11"
  }
 },
 "nbformat": 4,
 "nbformat_minor": 2
}
