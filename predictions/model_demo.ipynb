{
 "cells": [
  {
   "cell_type": "markdown",
   "metadata": {},
   "source": [
    "# **Multi-inference implicit chain of reasoning demonstration**\n",
    "\n",
    "Here I attempt to solve this challenge [here](https://yuntiandeng.com/cv/challenge.png) by referencing the research paper and source code linked below.\n",
    "\n",
    "| ||\n",
    "|----------|----------|\n",
    "| Research Credit | [here](https://arxiv.org/pdf/2311.01460.pdf) |\n",
    "| Code Inspiration Credit | [github](https://github.com/da03/implicit_chain_of_thought/tree/main) |"
   ]
  },
  {
   "cell_type": "code",
   "execution_count": 1,
   "metadata": {},
   "outputs": [],
   "source": [
    "import sys\n",
    "import os\n",
    "\n",
    "#For safe imports\n",
    "notebook_directory = os.getcwd()\n",
    "parent_directory = os.path.dirname(notebook_directory)\n",
    "sys.path.insert(False, parent_directory)\n"
   ]
  },
  {
   "cell_type": "code",
   "execution_count": 2,
   "metadata": {},
   "outputs": [],
   "source": [
    "parent_directory = os.path.dirname(notebook_directory)"
   ]
  },
  {
   "cell_type": "markdown",
   "metadata": {},
   "source": [
    "### **Dataset Generation**\n",
    "Here we generate our test and train data. We generate our training data randomly such that it represents less than **1%** of possible observations. We also generate our tokenized data here as well.\n",
    "\n",
    "---\n",
    "\n",
    "The format of training and test datasets follow this format:\n",
    "\n",
    "```\n",
    "[input 1a] $$$ [input 1b]||[CoT 1a] $$$ [CoT 1b] #### [output 1a] $$$ [output 1b]\n",
    "[input 2a] $$$ [input 2b]||[CoT 2a] $$$ [CoT 2b] #### [output 2a] $$$ [output 2b]\n",
    "[input 3a] $$$ [input 3b]||[CoT 3a] $$$ [CoT 3b] #### [output 3a] $$$ [output 3b]\n",
    "```\n",
    "\n",
    "We can also test any particular case using the DatasetHandler. We create a custom prediction dataset as well."
   ]
  },
  {
   "cell_type": "code",
   "execution_count": 3,
   "metadata": {},
   "outputs": [],
   "source": [
    "from data.data import DatasetHandler\n",
    "from transformers import AutoTokenizer\n",
    "tokenizer = AutoTokenizer.from_pretrained('gpt2')\n",
    "\n",
    "training_data_size = 7770\n",
    "test_data_size = 770\n",
    "\n",
    "datahandler_train = DatasetHandler(tokenizer = tokenizer, parent_path = parent_directory, max_len = 1024, type = 'train')\n",
    "datahandler_test = DatasetHandler(tokenizer = tokenizer, parent_path = parent_directory, max_len = 1024, type = 'test')"
   ]
  },
  {
   "cell_type": "markdown",
   "metadata": {},
   "source": [
    "Now we generate datasets for each handler."
   ]
  },
  {
   "cell_type": "code",
   "execution_count": 4,
   "metadata": {},
   "outputs": [
    {
     "name": "stdout",
     "output_type": "stream",
     "text": [
      "Generated raw train dataset saved at c:\\Users\\Luke\\multi_implicit_cot\\data\\raw_train_dataset.txt of size 7770.\n",
      "Creating tokenized features from dataset file at c:\\Users\\Luke\\multi_implicit_cot\\data\\raw_train_dataset.txt\n",
      "tgt_avg:  21.0\n",
      "src_avg:  13.0\n",
      "ratios:  0.6190476190476191\n",
      "tgt_avg:  15.0\n",
      "src_avg:  13.0\n",
      "ratios:  0.8666666666666667\n",
      "---------------------------\n",
      "Example features:\n",
      "Full entry:  7 1 * 5 2 $$$ 4 0 * 0 2 <|endoftext|> 5 8 0 + 0 4 3 0 $$$ 0 0 0 + 0 8 0 0 <|endoftext|> #### 5 2 4 0 $$$ 0 8 0 0 <|endoftext|>\n",
      "No CoT:  7 1 * 5 2 $$$ 4 0 * 0 2 <|endoftext|> #### 5 2 4 0 $$$ 0 8 0 0 <|endoftext|>\n",
      "Only CoT:  7 1 * 5 2 $$$ 4 0 * 0 2 <|endoftext|> 5 8 0 + 0 4 3 0 $$$ 0 0 0 + 0 8 0 0 <|endoftext|>\n",
      "Product input:  7 1 * 5 2 $$$ 4 0 * 0 2 <|endoftext|> \n",
      "---------------------------\n",
      "Generated raw test dataset saved at c:\\Users\\Luke\\multi_implicit_cot\\data\\raw_test_dataset.txt of size 770.\n",
      "Creating tokenized features from dataset file at c:\\Users\\Luke\\multi_implicit_cot\\data\\raw_test_dataset.txt\n",
      "tgt_avg:  21.0\n",
      "src_avg:  13.0\n",
      "ratios:  0.6190476190476191\n",
      "tgt_avg:  15.0\n",
      "src_avg:  13.0\n",
      "ratios:  0.8666666666666667\n",
      "---------------------------\n",
      "Example features:\n",
      "Full entry:  3 4 * 0 4 $$$ 1 7 * 1 2 <|endoftext|> 0 0 0 + 0 2 7 1 $$$ 1 7 0 + 0 2 4 1 <|endoftext|> #### 0 2 7 1 $$$ 1 9 4 1 <|endoftext|>\n",
      "No CoT:  3 4 * 0 4 $$$ 1 7 * 1 2 <|endoftext|> #### 0 2 7 1 $$$ 1 9 4 1 <|endoftext|>\n",
      "Only CoT:  3 4 * 0 4 $$$ 1 7 * 1 2 <|endoftext|> 0 0 0 + 0 2 7 1 $$$ 1 7 0 + 0 2 4 1 <|endoftext|>\n",
      "Product input:  3 4 * 0 4 $$$ 1 7 * 1 2 <|endoftext|> \n",
      "---------------------------\n"
     ]
    }
   ],
   "source": [
    "datahandler_train.generateDataset(size = training_data_size)\n",
    "datahandler_test.generateDataset(size = test_data_size)"
   ]
  },
  {
   "cell_type": "markdown",
   "metadata": {},
   "source": [
    "Here we allow the creation of a custom prediction. The custom prediction is of the form **a*b** and **c*d**."
   ]
  },
  {
   "cell_type": "code",
   "execution_count": 5,
   "metadata": {},
   "outputs": [
    {
     "name": "stdout",
     "output_type": "stream",
     "text": [
      "Generated raw custom dataset saved at c:\\Users\\Luke\\multi_implicit_cot\\data\\raw_custom_dataset.txt of size 1.\n",
      "Creating tokenized features from dataset file at c:\\Users\\Luke\\multi_implicit_cot\\data\\raw_custom_dataset.txt\n",
      "tgt_avg:  21.0\n",
      "src_avg:  13.0\n",
      "ratios:  0.6190476190476191\n",
      "tgt_avg:  15.0\n",
      "src_avg:  13.0\n",
      "ratios:  0.8666666666666667\n",
      "---------------------------\n",
      "Example features:\n",
      "Full entry:  0 1 * 5 0 $$$ 9 0 * 8 9 <|endoftext|> 0 5 0 + 0 0 0 0 $$$ 2 7 0 + 0 1 8 0 <|endoftext|> #### 0 5 0 0 $$$ 2 8 8 0 <|endoftext|>\n",
      "No CoT:  0 1 * 5 0 $$$ 9 0 * 8 9 <|endoftext|> #### 0 5 0 0 $$$ 2 8 8 0 <|endoftext|>\n",
      "Only CoT:  0 1 * 5 0 $$$ 9 0 * 8 9 <|endoftext|> 0 5 0 + 0 0 0 0 $$$ 2 7 0 + 0 1 8 0 <|endoftext|>\n",
      "Product input:  0 1 * 5 0 $$$ 9 0 * 8 9 <|endoftext|> \n",
      "---------------------------\n"
     ]
    }
   ],
   "source": [
    "#Custom prediction \n",
    "a=10\n",
    "b=5\n",
    "c=9\n",
    "d=98\n",
    "\n",
    "custom_prediction = DatasetHandler(tokenizer = tokenizer, parent_path = parent_directory, max_len = 1024, type = 'custom')\n",
    "custom_prediction.generateDataset(a=10, b=5, c=9, d=98)"
   ]
  },
  {
   "cell_type": "markdown",
   "metadata": {},
   "source": [
    "### **Model Training**\n",
    "Here we begin training our individual models.\n",
    "\n",
    "---\n"
   ]
  },
  {
   "cell_type": "code",
   "execution_count": 6,
   "metadata": {},
   "outputs": [],
   "source": [
    "from source.teacher import Teacher\n",
    "from source.configurations import TeacherConfig\n",
    "\n",
    "from source.thought_emulator import ThoughtEmulator\n",
    "from source.configurations import ThoughtEmulatorConfig\n",
    "\n",
    "from source.mindreading_emulator import MindReadingEmulator\n",
    "from source.configurations import MindReadingEmulatorConfig\n"
   ]
  },
  {
   "cell_type": "code",
   "execution_count": 7,
   "metadata": {},
   "outputs": [],
   "source": [
    "teacher_config = TeacherConfig()\n",
    "teacher_model = Teacher(teacher_config)\n",
    "\n",
    "t_emulator_config = ThoughtEmulatorConfig()\n",
    "t_emulator_model = ThoughtEmulator(t_emulator_config, teacher_model)\n",
    "\n",
    "mr_emulator_config = MindReadingEmulatorConfig()\n",
    "mr_emulator_model = MindReadingEmulator(t_emulator_config, teacher_model)"
   ]
  },
  {
   "cell_type": "markdown",
   "metadata": {},
   "source": [
    "##### **Teacher Model**\n",
    "This model takes in inputs and generates a CoT and product as output."
   ]
  },
  {
   "cell_type": "code",
   "execution_count": 8,
   "metadata": {},
   "outputs": [
    {
     "name": "stderr",
     "output_type": "stream",
     "text": [
      "  0%|          | 1/243 [00:01<05:55,  1.47s/it]"
     ]
    },
    {
     "name": "stdout",
     "output_type": "stream",
     "text": [
      "Step: 0. PPL: 98.405487. Training Accuracy: 0.148897\n"
     ]
    },
    {
     "name": "stderr",
     "output_type": "stream",
     "text": [
      " 10%|█         | 25/243 [00:08<01:06,  3.26it/s]"
     ]
    },
    {
     "name": "stdout",
     "output_type": "stream",
     "text": [
      "Step: 24. PPL: 3.381188. Training Accuracy: 0.602022\n"
     ]
    },
    {
     "name": "stderr",
     "output_type": "stream",
     "text": [
      " 20%|██        | 49/243 [00:16<00:59,  3.27it/s]"
     ]
    },
    {
     "name": "stdout",
     "output_type": "stream",
     "text": [
      "Step: 48. PPL: 3.055602. Training Accuracy: 0.605699\n"
     ]
    },
    {
     "name": "stderr",
     "output_type": "stream",
     "text": [
      " 30%|███       | 73/243 [00:23<00:55,  3.04it/s]"
     ]
    },
    {
     "name": "stdout",
     "output_type": "stream",
     "text": [
      "Step: 72. PPL: 2.811810. Training Accuracy: 0.630515\n"
     ]
    },
    {
     "name": "stderr",
     "output_type": "stream",
     "text": [
      " 40%|███▉      | 97/243 [00:31<00:47,  3.09it/s]"
     ]
    },
    {
     "name": "stdout",
     "output_type": "stream",
     "text": [
      "Step: 96. PPL: 2.395706. Training Accuracy: 0.682904\n"
     ]
    },
    {
     "name": "stderr",
     "output_type": "stream",
     "text": [
      " 50%|████▉     | 121/243 [00:39<00:39,  3.12it/s]"
     ]
    },
    {
     "name": "stdout",
     "output_type": "stream",
     "text": [
      "Step: 120. PPL: 2.456820. Training Accuracy: 0.658088\n"
     ]
    },
    {
     "name": "stderr",
     "output_type": "stream",
     "text": [
      " 60%|█████▉    | 145/243 [00:46<00:30,  3.20it/s]"
     ]
    },
    {
     "name": "stdout",
     "output_type": "stream",
     "text": [
      "Step: 144. PPL: 2.131532. Training Accuracy: 0.729779\n"
     ]
    },
    {
     "name": "stderr",
     "output_type": "stream",
     "text": [
      " 70%|██████▉   | 169/243 [00:54<00:22,  3.25it/s]"
     ]
    },
    {
     "name": "stdout",
     "output_type": "stream",
     "text": [
      "Step: 168. PPL: 2.129733. Training Accuracy: 0.723346\n"
     ]
    },
    {
     "name": "stderr",
     "output_type": "stream",
     "text": [
      " 79%|███████▉  | 193/243 [01:01<00:15,  3.28it/s]"
     ]
    },
    {
     "name": "stdout",
     "output_type": "stream",
     "text": [
      "Step: 192. PPL: 1.888085. Training Accuracy: 0.767463\n"
     ]
    },
    {
     "name": "stderr",
     "output_type": "stream",
     "text": [
      " 89%|████████▉ | 217/243 [01:08<00:07,  3.26it/s]"
     ]
    },
    {
     "name": "stdout",
     "output_type": "stream",
     "text": [
      "Step: 216. PPL: 1.833695. Training Accuracy: 0.766544\n"
     ]
    },
    {
     "name": "stderr",
     "output_type": "stream",
     "text": [
      " 99%|█████████▉| 241/243 [01:16<00:00,  3.13it/s]"
     ]
    },
    {
     "name": "stdout",
     "output_type": "stream",
     "text": [
      "Step: 240. PPL: 1.728178. Training Accuracy: 0.794118\n"
     ]
    },
    {
     "name": "stderr",
     "output_type": "stream",
     "text": [
      "100%|██████████| 243/243 [01:17<00:00,  3.15it/s]\n"
     ]
    },
    {
     "name": "stdout",
     "output_type": "stream",
     "text": [
      "Evaluating test dataset now...\n"
     ]
    },
    {
     "name": "stderr",
     "output_type": "stream",
     "text": [
      "  4%|▍         | 1/25 [00:00<00:12,  1.95it/s]"
     ]
    },
    {
     "name": "stdout",
     "output_type": "stream",
     "text": [
      "Input:  3 4 * 0 4 $$$ 1 7 * 1 2 \n",
      "Target:  0 0 0 + 0 2 7 1 $$$ 1 7 0 + 0 2 4 1  #### 0 2 7 1 $$$ 1 9 4 1 \n",
      "Predicted:  0 0 0 + 0 8 0 2 $$$ 1 7 0 + 0 2 7 1  #### 0 8 0 2 $$$ 1 8 7 1 \n",
      "\n"
     ]
    },
    {
     "name": "stderr",
     "output_type": "stream",
     "text": [
      "  8%|▊         | 2/25 [00:01<00:12,  1.85it/s]"
     ]
    },
    {
     "name": "stdout",
     "output_type": "stream",
     "text": [
      "Input:  0 9 * 0 7 $$$ 9 1 * 2 5 \n",
      "Target:  0 0 0 + 0 0 3 6 $$$ 8 3 0 + 0 5 9 0  #### 0 0 3 6 $$$ 8 8 9 0 \n",
      "Predicted:  0 0 0 + 0 0 7 6 $$$ 4 9 0 + 0 5 9 0  #### 0 0 7 6 $$$ 4 0 0 1 \n",
      "\n"
     ]
    },
    {
     "name": "stderr",
     "output_type": "stream",
     "text": [
      " 12%|█▏        | 3/25 [00:01<00:11,  1.92it/s]"
     ]
    },
    {
     "name": "stdout",
     "output_type": "stream",
     "text": [
      "Input:  1 8 * 8 2 $$$ 6 3 * 6 2 \n",
      "Target:  8 4 6 + 0 2 6 1 $$$ 6 1 2 + 0 2 7 0  #### 8 6 2 2 $$$ 6 3 9 0 \n",
      "Predicted:  4 6 7 + 0 2 8 1 $$$ 2 1 3 + 0 2 5 0  #### 4 8 2 2 $$$ 2 3 7 0 \n",
      "\n"
     ]
    },
    {
     "name": "stderr",
     "output_type": "stream",
     "text": [
      " 16%|█▌        | 4/25 [00:02<00:10,  1.96it/s]"
     ]
    },
    {
     "name": "stdout",
     "output_type": "stream",
     "text": [
      "Input:  6 1 * 5 4 $$$ 6 0 * 3 5 \n",
      "Target:  0 8 0 + 0 4 6 0 $$$ 8 1 0 + 0 0 3 0  #### 0 2 7 0 $$$ 8 1 3 0 \n",
      "Predicted:  5 3 0 + 0 6 1 0 $$$ 8 1 0 + 0 0 0 0  #### 5 8 1 0 $$$ 8 1 0 0 \n",
      "\n"
     ]
    },
    {
     "name": "stderr",
     "output_type": "stream",
     "text": [
      "100%|██████████| 25/25 [00:13<00:00,  1.91it/s]\n"
     ]
    },
    {
     "name": "stdout",
     "output_type": "stream",
     "text": [
      "Perplexitity: 1.575893; Test Accuracy: 0.009091; Training Accuracy: 0.823262.\n",
      "Saving to c:\\Users\\Luke\\multi_implicit_cot\\models\\teacher\n"
     ]
    },
    {
     "data": {
      "image/png": "[encoded data removed]",
      "text/plain": [
       "<Figure size 640x480 with 1 Axes>"
      ]
     },
     "metadata": {},
     "output_type": "display_data"
    },
    {
     "data": {
      "image/png": "[encoded data removed]",
      "text/plain": [
       "<Figure size 640x480 with 1 Axes>"
      ]
     },
     "metadata": {},
     "output_type": "display_data"
    }
   ],
   "source": [
    "teacher_model.train(train_handler = datahandler_train, test_handler = datahandler_test, limit = 0.99)"
   ]
  },
  {
   "cell_type": "markdown",
   "metadata": {},
   "source": [
    "##### **Thought Emulator Model**\n",
    "This model takes the input and predicts the teacher states. We calculate a proxy for accuracy by taking the mean difference in layer states between the teacher model and itself."
   ]
  },
  {
   "cell_type": "code",
   "execution_count": 9,
   "metadata": {},
   "outputs": [
    {
     "name": "stderr",
     "output_type": "stream",
     "text": [
      "  0%|          | 1/243 [00:00<03:27,  1.16it/s]"
     ]
    },
    {
     "name": "stdout",
     "output_type": "stream",
     "text": [
      "Step: 0. Loss: 9630.329102. Quasi Training Accuracy: 0.081221.\n"
     ]
    },
    {
     "name": "stderr",
     "output_type": "stream",
     "text": [
      " 10%|█         | 25/243 [00:09<01:17,  2.82it/s]"
     ]
    },
    {
     "name": "stdout",
     "output_type": "stream",
     "text": [
      "Step: 24. Loss: 663.079468. Quasi Training Accuracy: 0.732592.\n"
     ]
    },
    {
     "name": "stderr",
     "output_type": "stream",
     "text": [
      " 20%|██        | 49/243 [00:17<01:08,  2.84it/s]"
     ]
    },
    {
     "name": "stdout",
     "output_type": "stream",
     "text": [
      "Step: 48. Loss: 419.753540. Quasi Training Accuracy: 0.792672.\n"
     ]
    },
    {
     "name": "stderr",
     "output_type": "stream",
     "text": [
      " 30%|███       | 73/243 [00:26<00:59,  2.85it/s]"
     ]
    },
    {
     "name": "stdout",
     "output_type": "stream",
     "text": [
      "Step: 72. Loss: 401.992828. Quasi Training Accuracy: 0.802799.\n"
     ]
    },
    {
     "name": "stderr",
     "output_type": "stream",
     "text": [
      " 40%|███▉      | 97/243 [00:34<00:50,  2.87it/s]"
     ]
    },
    {
     "name": "stdout",
     "output_type": "stream",
     "text": [
      "Step: 96. Loss: 382.142334. Quasi Training Accuracy: 0.809614.\n"
     ]
    },
    {
     "name": "stderr",
     "output_type": "stream",
     "text": [
      " 50%|████▉     | 121/243 [00:43<00:42,  2.87it/s]"
     ]
    },
    {
     "name": "stdout",
     "output_type": "stream",
     "text": [
      "Step: 120. Loss: 364.000488. Quasi Training Accuracy: 0.815514.\n"
     ]
    },
    {
     "name": "stderr",
     "output_type": "stream",
     "text": [
      " 60%|█████▉    | 145/243 [00:51<00:34,  2.85it/s]"
     ]
    },
    {
     "name": "stdout",
     "output_type": "stream",
     "text": [
      "Step: 144. Loss: 312.852753. Quasi Training Accuracy: 0.831188.\n"
     ]
    },
    {
     "name": "stderr",
     "output_type": "stream",
     "text": [
      " 70%|██████▉   | 169/243 [01:00<00:28,  2.63it/s]"
     ]
    },
    {
     "name": "stdout",
     "output_type": "stream",
     "text": [
      "Step: 168. Loss: 307.194702. Quasi Training Accuracy: 0.832089.\n"
     ]
    },
    {
     "name": "stderr",
     "output_type": "stream",
     "text": [
      " 79%|███████▉  | 193/243 [01:09<00:19,  2.60it/s]"
     ]
    },
    {
     "name": "stdout",
     "output_type": "stream",
     "text": [
      "Step: 192. Loss: 287.330231. Quasi Training Accuracy: 0.837599.\n"
     ]
    },
    {
     "name": "stderr",
     "output_type": "stream",
     "text": [
      " 89%|████████▉ | 217/243 [01:17<00:09,  2.76it/s]"
     ]
    },
    {
     "name": "stdout",
     "output_type": "stream",
     "text": [
      "Step: 216. Loss: 273.747681. Quasi Training Accuracy: 0.841560.\n"
     ]
    },
    {
     "name": "stderr",
     "output_type": "stream",
     "text": [
      " 99%|█████████▉| 241/243 [01:26<00:00,  2.81it/s]"
     ]
    },
    {
     "name": "stdout",
     "output_type": "stream",
     "text": [
      "Step: 240. Loss: 264.025513. Quasi Training Accuracy: 0.845733.\n"
     ]
    },
    {
     "name": "stderr",
     "output_type": "stream",
     "text": [
      "100%|██████████| 243/243 [01:27<00:00,  2.79it/s]\n"
     ]
    },
    {
     "name": "stdout",
     "output_type": "stream",
     "text": [
      "Evaluating test dataset now...\n"
     ]
    },
    {
     "name": "stderr",
     "output_type": "stream",
     "text": [
      "100%|██████████| 25/25 [00:02<00:00,  8.77it/s]\n"
     ]
    },
    {
     "name": "stdout",
     "output_type": "stream",
     "text": [
      "Loss: 239.988072; Quasi Test Accuracy: 0.864959; Quasi Training Accuracy: 0.842821.\n",
      "Saving to c:\\Users\\Luke\\multi_implicit_cot\\models\\thought_emulator\n"
     ]
    },
    {
     "data": {
      "image/png": "[encoded data removed]",
      "text/plain": [
       "<Figure size 640x480 with 1 Axes>"
      ]
     },
     "metadata": {},
     "output_type": "display_data"
    },
    {
     "data": {
      "image/png": "[encoded data removed]",
      "text/plain": [
       "<Figure size 640x480 with 1 Axes>"
      ]
     },
     "metadata": {},
     "output_type": "display_data"
    }
   ],
   "source": [
    "t_emulator_model.train(train_handler = datahandler_train, test_handler = datahandler_test, limit = 0.99)"
   ]
  },
  {
   "cell_type": "markdown",
   "metadata": {},
   "source": [
    "##### **Mind Reading Emulator Model**\n",
    "This model takes in the teacher states as input and predicts the output."
   ]
  },
  {
   "cell_type": "code",
   "execution_count": 10,
   "metadata": {},
   "outputs": [
    {
     "name": "stderr",
     "output_type": "stream",
     "text": [
      "  0%|          | 1/243 [00:00<02:10,  1.85it/s]"
     ]
    },
    {
     "name": "stdout",
     "output_type": "stream",
     "text": [
      "Step: 0. Loss: 6.206795. Training Accuracy: 0.004464.\n"
     ]
    },
    {
     "name": "stderr",
     "output_type": "stream",
     "text": [
      " 10%|█         | 25/243 [00:09<01:25,  2.55it/s]"
     ]
    },
    {
     "name": "stdout",
     "output_type": "stream",
     "text": [
      "Step: 24. Loss: 1.382976. Training Accuracy: 0.511161.\n"
     ]
    },
    {
     "name": "stderr",
     "output_type": "stream",
     "text": [
      " 20%|██        | 49/243 [00:19<01:16,  2.53it/s]"
     ]
    },
    {
     "name": "stdout",
     "output_type": "stream",
     "text": [
      "Step: 48. Loss: 1.243930. Training Accuracy: 0.551339.\n"
     ]
    },
    {
     "name": "stderr",
     "output_type": "stream",
     "text": [
      " 30%|███       | 73/243 [00:28<01:05,  2.61it/s]"
     ]
    },
    {
     "name": "stdout",
     "output_type": "stream",
     "text": [
      "Step: 72. Loss: 1.132011. Training Accuracy: 0.582589.\n"
     ]
    },
    {
     "name": "stderr",
     "output_type": "stream",
     "text": [
      " 40%|███▉      | 97/243 [00:37<00:54,  2.70it/s]"
     ]
    },
    {
     "name": "stdout",
     "output_type": "stream",
     "text": [
      "Step: 96. Loss: 1.013115. Training Accuracy: 0.633929.\n"
     ]
    },
    {
     "name": "stderr",
     "output_type": "stream",
     "text": [
      " 50%|████▉     | 121/243 [00:48<00:55,  2.20it/s]"
     ]
    },
    {
     "name": "stdout",
     "output_type": "stream",
     "text": [
      "Step: 120. Loss: 0.943260. Training Accuracy: 0.645089.\n"
     ]
    },
    {
     "name": "stderr",
     "output_type": "stream",
     "text": [
      " 60%|█████▉    | 145/243 [00:59<00:44,  2.22it/s]"
     ]
    },
    {
     "name": "stdout",
     "output_type": "stream",
     "text": [
      "Step: 144. Loss: 0.919863. Training Accuracy: 0.658482.\n"
     ]
    },
    {
     "name": "stderr",
     "output_type": "stream",
     "text": [
      " 70%|██████▉   | 169/243 [01:09<00:33,  2.22it/s]"
     ]
    },
    {
     "name": "stdout",
     "output_type": "stream",
     "text": [
      "Step: 168. Loss: 0.880102. Training Accuracy: 0.676339.\n"
     ]
    },
    {
     "name": "stderr",
     "output_type": "stream",
     "text": [
      " 79%|███████▉  | 193/243 [01:20<00:22,  2.25it/s]"
     ]
    },
    {
     "name": "stdout",
     "output_type": "stream",
     "text": [
      "Step: 192. Loss: 0.847058. Training Accuracy: 0.667411.\n"
     ]
    },
    {
     "name": "stderr",
     "output_type": "stream",
     "text": [
      " 89%|████████▉ | 217/243 [01:31<00:11,  2.26it/s]"
     ]
    },
    {
     "name": "stdout",
     "output_type": "stream",
     "text": [
      "Step: 216. Loss: 0.865374. Training Accuracy: 0.674107.\n"
     ]
    },
    {
     "name": "stderr",
     "output_type": "stream",
     "text": [
      " 99%|█████████▉| 241/243 [01:41<00:00,  2.23it/s]"
     ]
    },
    {
     "name": "stdout",
     "output_type": "stream",
     "text": [
      "Step: 240. Loss: 0.797600. Training Accuracy: 0.689732.\n"
     ]
    },
    {
     "name": "stderr",
     "output_type": "stream",
     "text": [
      "100%|██████████| 243/243 [01:42<00:00,  2.36it/s]\n"
     ]
    },
    {
     "name": "stdout",
     "output_type": "stream",
     "text": [
      "Evaluating test dataset now...\n"
     ]
    },
    {
     "name": "stderr",
     "output_type": "stream",
     "text": [
      "  4%|▍         | 1/25 [00:05<02:13,  5.57s/it]"
     ]
    },
    {
     "name": "stdout",
     "output_type": "stream",
     "text": [
      "Input H. Layer 1, V. Layer 1, first 9 states:\n",
      "[ 0.3323 -0.0464  0.9191 -0.2496 -0.3378  0.2135 -1.2867 -0.3135 -0.3556]\n",
      "Target:  #### 0 2 7 1 $$$ 1 9 4 1 \n",
      "Predicted:  #### 0 4 0 2 $$$ 1 7 2 1 \n",
      "\n"
     ]
    },
    {
     "name": "stderr",
     "output_type": "stream",
     "text": [
      "  8%|▊         | 2/25 [00:11<02:08,  5.61s/it]"
     ]
    },
    {
     "name": "stdout",
     "output_type": "stream",
     "text": [
      "Input H. Layer 1, V. Layer 1, first 9 states:\n",
      "[ 0.3323 -0.0464  0.9191 -0.2496 -0.3378  0.2135 -1.2867 -0.3135 -0.3556]\n",
      "Target:  #### 0 0 3 6 $$$ 8 8 9 0 \n",
      "Predicted:  #### 0 5 7 5 $$$ 8 0 5 0 \n",
      "\n"
     ]
    },
    {
     "name": "stderr",
     "output_type": "stream",
     "text": [
      " 12%|█▏        | 3/25 [00:16<02:03,  5.61s/it]"
     ]
    },
    {
     "name": "stdout",
     "output_type": "stream",
     "text": [
      "Input H. Layer 1, V. Layer 1, first 9 states:\n",
      "[ 0.3323 -0.0464  0.9191 -0.2496 -0.3378  0.2135 -1.2867 -0.3135 -0.3556]\n",
      "Target:  #### 8 6 2 2 $$$ 6 3 9 0 \n",
      "Predicted:  #### 2 8 0 2 $$$ 6 2 2 0 \n",
      "\n"
     ]
    },
    {
     "name": "stderr",
     "output_type": "stream",
     "text": [
      " 16%|█▌        | 4/25 [00:22<01:58,  5.63s/it]"
     ]
    },
    {
     "name": "stdout",
     "output_type": "stream",
     "text": [
      "Input H. Layer 1, V. Layer 1, first 9 states:\n",
      "[ 0.3323 -0.0464  0.9191 -0.2496 -0.3378  0.2135 -1.2867 -0.3135 -0.3556]\n",
      "Target:  #### 0 2 7 0 $$$ 8 1 3 0 \n",
      "Predicted:  #### 5 0 2 0 $$$ 8 0 5 0 \n",
      "\n"
     ]
    },
    {
     "name": "stderr",
     "output_type": "stream",
     "text": [
      " 20%|██        | 5/25 [00:28<01:54,  5.70s/it]"
     ]
    },
    {
     "name": "stdout",
     "output_type": "stream",
     "text": [
      "Input H. Layer 1, V. Layer 1, first 9 states:\n",
      "[ 0.3323 -0.0464  0.9191 -0.2496 -0.3378  0.2135 -1.2867 -0.3135 -0.3556]\n",
      "Target:  #### 5 9 7 0 $$$ 0 6 3 0 \n",
      "Predicted:  #### 5 0 0 1 $$$ 0 8 0 0 \n",
      "\n"
     ]
    },
    {
     "name": "stderr",
     "output_type": "stream",
     "text": [
      " 24%|██▍       | 6/25 [00:34<01:48,  5.71s/it]"
     ]
    },
    {
     "name": "stdout",
     "output_type": "stream",
     "text": [
      "Input H. Layer 1, V. Layer 1, first 9 states:\n",
      "[ 0.3323 -0.0464  0.9191 -0.2496 -0.3378  0.2135 -1.2867 -0.3135 -0.3556]\n",
      "Target:  #### 9 3 4 8 $$$ 2 1 8 0 \n",
      "Predicted:  #### 2 9 8 8 $$$ 2 2 2 0 \n",
      "\n"
     ]
    },
    {
     "name": "stderr",
     "output_type": "stream",
     "text": [
      " 28%|██▊       | 7/25 [00:39<01:42,  5.72s/it]"
     ]
    },
    {
     "name": "stdout",
     "output_type": "stream",
     "text": [
      "Input H. Layer 1, V. Layer 1, first 9 states:\n",
      "[ 0.3323 -0.0464  0.9191 -0.2496 -0.3378  0.2135 -1.2867 -0.3135 -0.3556]\n",
      "Target:  #### 0 8 8 2 $$$ 5 6 2 0 \n",
      "Predicted:  #### 0 9 2 2 $$$ 5 5 0 0 \n",
      "\n"
     ]
    },
    {
     "name": "stderr",
     "output_type": "stream",
     "text": [
      " 32%|███▏      | 8/25 [00:45<01:37,  5.72s/it]"
     ]
    },
    {
     "name": "stdout",
     "output_type": "stream",
     "text": [
      "Input H. Layer 1, V. Layer 1, first 9 states:\n",
      "[ 0.3323 -0.0464  0.9191 -0.2496 -0.3378  0.2135 -1.2867 -0.3135 -0.3556]\n",
      "Target:  #### 9 2 7 0 $$$ 6 5 0 1 \n",
      "Predicted:  #### 1 8 0 0 $$$ 6 3 3 1 \n",
      "\n"
     ]
    },
    {
     "name": "stderr",
     "output_type": "stream",
     "text": [
      " 36%|███▌      | 9/25 [00:51<01:31,  5.72s/it]"
     ]
    },
    {
     "name": "stdout",
     "output_type": "stream",
     "text": [
      "Input H. Layer 1, V. Layer 1, first 9 states:\n",
      "[ 0.3323 -0.0464  0.9191 -0.2496 -0.3378  0.2135 -1.2867 -0.3135 -0.3556]\n",
      "Target:  #### 4 9 4 2 $$$ 3 5 6 4 \n",
      "Predicted:  #### 2 8 2 2 $$$ 3 9 2 4 \n",
      "\n"
     ]
    },
    {
     "name": "stderr",
     "output_type": "stream",
     "text": [
      " 40%|████      | 10/25 [00:56<01:25,  5.73s/it]"
     ]
    },
    {
     "name": "stdout",
     "output_type": "stream",
     "text": [
      "Input H. Layer 1, V. Layer 1, first 9 states:\n",
      "[ 0.3323 -0.0464  0.9191 -0.2496 -0.3378  0.2135 -1.2867 -0.3135 -0.3556]\n",
      "Target:  #### 1 2 2 7 $$$ 4 5 0 0 \n",
      "Predicted:  #### 5 8 8 5 $$$ 4 0 0 0 \n",
      "\n"
     ]
    },
    {
     "name": "stderr",
     "output_type": "stream",
     "text": [
      " 44%|████▍     | 11/25 [01:02<01:20,  5.72s/it]"
     ]
    },
    {
     "name": "stdout",
     "output_type": "stream",
     "text": [
      "Input H. Layer 1, V. Layer 1, first 9 states:\n",
      "[ 0.3323 -0.0464  0.9191 -0.2496 -0.3378  0.2135 -1.2867 -0.3135 -0.3556]\n",
      "Target:  #### 4 5 6 3 $$$ 0 9 4 0 \n",
      "Predicted:  #### 2 2 2 2 $$$ 0 5 2 0 \n",
      "\n"
     ]
    },
    {
     "name": "stderr",
     "output_type": "stream",
     "text": [
      " 48%|████▊     | 12/25 [01:08<01:14,  5.71s/it]"
     ]
    },
    {
     "name": "stdout",
     "output_type": "stream",
     "text": [
      "Input H. Layer 1, V. Layer 1, first 9 states:\n",
      "[ 0.3323 -0.0464  0.9191 -0.2496 -0.3378  0.2135 -1.2867 -0.3135 -0.3556]\n",
      "Target:  #### 0 6 3 7 $$$ 0 6 1 6 \n",
      "Predicted:  #### 0 8 8 5 $$$ 0 8 8 6 \n",
      "\n"
     ]
    },
    {
     "name": "stderr",
     "output_type": "stream",
     "text": [
      " 52%|█████▏    | 13/25 [01:13<01:07,  5.66s/it]"
     ]
    },
    {
     "name": "stdout",
     "output_type": "stream",
     "text": [
      "Input H. Layer 1, V. Layer 1, first 9 states:\n",
      "[ 0.3323 -0.0464  0.9191 -0.2496 -0.3378  0.2135 -1.2867 -0.3135 -0.3556]\n",
      "Target:  #### 0 2 1 3 $$$ 0 6 6 0 \n",
      "Predicted:  #### 0 8 0 3 $$$ 0 5 0 0 \n",
      "\n"
     ]
    },
    {
     "name": "stderr",
     "output_type": "stream",
     "text": [
      " 56%|█████▌    | 14/25 [01:19<01:02,  5.64s/it]"
     ]
    },
    {
     "name": "stdout",
     "output_type": "stream",
     "text": [
      "Input H. Layer 1, V. Layer 1, first 9 states:\n",
      "[ 0.3323 -0.0464  0.9191 -0.2496 -0.3378  0.2135 -1.2867 -0.3135 -0.3556]\n",
      "Target:  #### 4 4 1 1 $$$ 4 2 3 0 \n",
      "Predicted:  #### 2 2 1 1 $$$ 4 0 0 0 \n",
      "\n"
     ]
    },
    {
     "name": "stderr",
     "output_type": "stream",
     "text": [
      " 60%|██████    | 15/25 [01:25<00:56,  5.68s/it]"
     ]
    },
    {
     "name": "stdout",
     "output_type": "stream",
     "text": [
      "Input H. Layer 1, V. Layer 1, first 9 states:\n",
      "[ 0.3323 -0.0464  0.9191 -0.2496 -0.3378  0.2135 -1.2867 -0.3135 -0.3556]\n",
      "Target:  #### 8 6 7 1 $$$ 4 7 5 0 \n",
      "Predicted:  #### 2 0 2 2 $$$ 4 0 4 0 \n",
      "\n"
     ]
    },
    {
     "name": "stderr",
     "output_type": "stream",
     "text": [
      " 64%|██████▍   | 16/25 [01:30<00:50,  5.67s/it]"
     ]
    },
    {
     "name": "stdout",
     "output_type": "stream",
     "text": [
      "Input H. Layer 1, V. Layer 1, first 9 states:\n",
      "[ 0.3323 -0.0464  0.9191 -0.2496 -0.3378  0.2135 -1.2867 -0.3135 -0.3556]\n",
      "Target:  #### 0 2 2 3 $$$ 0 2 5 5 \n",
      "Predicted:  #### 0 7 3 2 $$$ 0 8 0 6 \n",
      "\n"
     ]
    },
    {
     "name": "stderr",
     "output_type": "stream",
     "text": [
      " 68%|██████▊   | 17/25 [01:36<00:45,  5.70s/it]"
     ]
    },
    {
     "name": "stdout",
     "output_type": "stream",
     "text": [
      "Input H. Layer 1, V. Layer 1, first 9 states:\n",
      "[ 0.3323 -0.0464  0.9191 -0.2496 -0.3378  0.2135 -1.2867 -0.3135 -0.3556]\n",
      "Target:  #### 6 7 3 5 $$$ 3 5 5 7 \n",
      "Predicted:  #### 2 8 5 5 $$$ 3 2 9 7 \n",
      "\n"
     ]
    },
    {
     "name": "stderr",
     "output_type": "stream",
     "text": [
      " 72%|███████▏  | 18/25 [01:42<00:40,  5.81s/it]"
     ]
    },
    {
     "name": "stdout",
     "output_type": "stream",
     "text": [
      "Input H. Layer 1, V. Layer 1, first 9 states:\n",
      "[ 0.3323 -0.0464  0.9191 -0.2496 -0.3378  0.2135 -1.2867 -0.3135 -0.3556]\n",
      "Target:  #### 6 7 9 2 $$$ 6 5 6 1 \n",
      "Predicted:  #### 2 0 2 3 $$$ 6 0 2 1 \n",
      "\n"
     ]
    },
    {
     "name": "stderr",
     "output_type": "stream",
     "text": [
      " 76%|███████▌  | 19/25 [01:48<00:34,  5.82s/it]"
     ]
    },
    {
     "name": "stdout",
     "output_type": "stream",
     "text": [
      "Input H. Layer 1, V. Layer 1, first 9 states:\n",
      "[ 0.3323 -0.0464  0.9191 -0.2496 -0.3378  0.2135 -1.2867 -0.3135 -0.3556]\n",
      "Target:  #### 9 7 4 2 $$$ 6 5 4 0 \n",
      "Predicted:  #### 2 3 2 2 $$$ 6 0 2 0 \n",
      "\n"
     ]
    },
    {
     "name": "stderr",
     "output_type": "stream",
     "text": [
      " 80%|████████  | 20/25 [01:54<00:28,  5.76s/it]"
     ]
    },
    {
     "name": "stdout",
     "output_type": "stream",
     "text": [
      "Input H. Layer 1, V. Layer 1, first 9 states:\n",
      "[ 0.3323 -0.0464  0.9191 -0.2496 -0.3378  0.2135 -1.2867 -0.3135 -0.3556]\n",
      "Target:  #### 5 3 4 0 $$$ 2 3 4 0 \n",
      "Predicted:  #### 5 0 2 0 $$$ 2 2 2 0 \n",
      "\n"
     ]
    },
    {
     "name": "stderr",
     "output_type": "stream",
     "text": [
      " 84%|████████▍ | 21/25 [01:59<00:22,  5.68s/it]"
     ]
    },
    {
     "name": "stdout",
     "output_type": "stream",
     "text": [
      "Input H. Layer 1, V. Layer 1, first 9 states:\n",
      "[ 0.3323 -0.0464  0.9191 -0.2496 -0.3378  0.2135 -1.2867 -0.3135 -0.3556]\n",
      "Target:  #### 2 1 9 0 $$$ 2 4 3 0 \n",
      "Predicted:  #### 2 2 0 1 $$$ 2 9 1 0 \n",
      "\n"
     ]
    },
    {
     "name": "stderr",
     "output_type": "stream",
     "text": [
      " 88%|████████▊ | 22/25 [02:05<00:16,  5.63s/it]"
     ]
    },
    {
     "name": "stdout",
     "output_type": "stream",
     "text": [
      "Input H. Layer 1, V. Layer 1, first 9 states:\n",
      "[ 0.3323 -0.0464  0.9191 -0.2496 -0.3378  0.2135 -1.2867 -0.3135 -0.3556]\n",
      "Target:  #### 2 0 0 4 $$$ 0 8 6 3 \n",
      "Predicted:  #### 2 8 5 4 $$$ 0 8 0 4 \n",
      "\n"
     ]
    },
    {
     "name": "stderr",
     "output_type": "stream",
     "text": [
      " 92%|█████████▏| 23/25 [02:10<00:11,  5.64s/it]"
     ]
    },
    {
     "name": "stdout",
     "output_type": "stream",
     "text": [
      "Input H. Layer 1, V. Layer 1, first 9 states:\n",
      "[ 0.3323 -0.0464  0.9191 -0.2496 -0.3378  0.2135 -1.2867 -0.3135 -0.3556]\n",
      "Target:  #### 0 8 4 4 $$$ 6 5 7 0 \n",
      "Predicted:  #### 0 8 2 4 $$$ 6 0 8 0 \n",
      "\n"
     ]
    },
    {
     "name": "stderr",
     "output_type": "stream",
     "text": [
      " 96%|█████████▌| 24/25 [02:16<00:05,  5.56s/it]"
     ]
    },
    {
     "name": "stdout",
     "output_type": "stream",
     "text": [
      "Input H. Layer 1, V. Layer 1, first 9 states:\n",
      "[ 0.3323 -0.0464  0.9191 -0.2496 -0.3378  0.2135 -1.2867 -0.3135 -0.3556]\n",
      "Target:  #### 8 5 2 1 $$$ 2 5 9 1 \n",
      "Predicted:  #### 2 7 0 1 $$$ 2 3 0 1 \n",
      "\n"
     ]
    },
    {
     "name": "stderr",
     "output_type": "stream",
     "text": [
      "100%|██████████| 25/25 [02:16<00:00,  5.46s/it]"
     ]
    },
    {
     "name": "stdout",
     "output_type": "stream",
     "text": [
      "Input H. Layer 1, V. Layer 1, first 9 states:\n",
      "[ 0.3323 -0.0464  0.9191 -0.2496 -0.3378  0.2135 -1.2867 -0.3135 -0.3556]\n",
      "Target:  #### 0 8 4 6 $$$ 4 1 1 0 \n",
      "Predicted:  #### 0 0 9 5 $$$ 4 0 0 0 \n",
      "\n",
      "Perplexitity: 2.146523; Test Accuracy: 0.001299; Training Accuracy: 0.701206.\n",
      "Saving to c:\\Users\\Luke\\multi_implicit_cot\\models\\mindreading_emulator\n"
     ]
    },
    {
     "name": "stderr",
     "output_type": "stream",
     "text": [
      "\n"
     ]
    },
    {
     "data": {
      "image/png": "[encoded data removed]",
      "text/plain": [
       "<Figure size 640x480 with 1 Axes>"
      ]
     },
     "metadata": {},
     "output_type": "display_data"
    },
    {
     "data": {
      "image/png": "[encoded data removed]",
      "text/plain": [
       "<Figure size 640x480 with 1 Axes>"
      ]
     },
     "metadata": {},
     "output_type": "display_data"
    }
   ],
   "source": [
    "mr_emulator_model.train(train_handler = datahandler_train, test_handler = datahandler_test, limit = 0.99)"
   ]
  },
  {
   "cell_type": "markdown",
   "metadata": {},
   "source": [
    "### **Prediction Demo**\n",
    "Here we generate our custom test case to see results for each model. We include both the **thought emulator** and **mind reading emulator** to see how well it maps to states.\n",
    "\n",
    "---"
   ]
  },
  {
   "cell_type": "code",
   "execution_count": 11,
   "metadata": {},
   "outputs": [
    {
     "name": "stderr",
     "output_type": "stream",
     "text": [
      "100%|██████████| 1/1 [00:00<00:00,  2.05it/s]"
     ]
    },
    {
     "name": "stdout",
     "output_type": "stream",
     "text": [
      "Input:  0 1 * 5 0 $$$ 9 0 * 8 9 \n",
      "Target:  0 5 0 + 0 0 0 0 $$$ 2 7 0 + 0 1 8 0  #### 0 5 0 0 $$$ 2 8 8 0 \n",
      "Predicted:  0 5 0 + 0 0 0 0 $$$ 2 7 0 + 0 1 7 0  #### 0 5 0 0 $$$ 2 8 7 0 \n",
      "\n"
     ]
    },
    {
     "name": "stderr",
     "output_type": "stream",
     "text": [
      "\n"
     ]
    }
   ],
   "source": [
    "teacher_model.predict(custom_prediction)"
   ]
  },
  {
   "cell_type": "code",
   "execution_count": 15,
   "metadata": {},
   "outputs": [
    {
     "name": "stderr",
     "output_type": "stream",
     "text": [
      "100%|██████████| 1/1 [00:00<00:00,  3.38it/s]"
     ]
    },
    {
     "name": "stdout",
     "output_type": "stream",
     "text": [
      "Input:  0 1 * 5 0 $$$ 9 0 * 8 9  \n",
      "Target H. Layer 1, V. Layer 1, first 9 states:\n",
      "[ 0.3323 -0.0464  0.9191 -0.2496 -0.3378  0.2135 -1.2867 -0.3135 -0.3556]\n",
      "Predicted H. Layer 1, V. Layer 1, first 9 states: \n",
      "[ 0.2965 -0.0205  0.9547 -0.2495 -0.3151  0.2282 -1.2605 -0.3083 -0.3336]\n"
     ]
    },
    {
     "name": "stderr",
     "output_type": "stream",
     "text": [
      "\n"
     ]
    }
   ],
   "source": [
    "t_emulator_model.predict(custom_prediction)"
   ]
  },
  {
   "cell_type": "code",
   "execution_count": 14,
   "metadata": {},
   "outputs": [
    {
     "name": "stderr",
     "output_type": "stream",
     "text": [
      "100%|██████████| 1/1 [00:00<00:00,  2.32it/s]"
     ]
    },
    {
     "name": "stdout",
     "output_type": "stream",
     "text": [
      "Input H. Layer 1, V. Layer 1, first 9 states:\n",
      "[ 0.3323 -0.0464  0.9191 -0.2496 -0.3378  0.2135 -1.2867 -0.3135 -0.3556]\n",
      "Target:  #### 0 5 0 0 $$$ 2 8 8 0 \n",
      "Predicted:  #### 0 1 0 0 $$$ 2 2 9 0 \n",
      "\n"
     ]
    },
    {
     "name": "stderr",
     "output_type": "stream",
     "text": [
      "\n"
     ]
    }
   ],
   "source": [
    "mr_emulator_model.predict(custom_prediction)"
   ]
  }
 ],
 "metadata": {
  "kernelspec": {
   "display_name": "Python 3",
   "language": "python",
   "name": "python3"
  },
  "language_info": {
   "codemirror_mode": {
    "name": "ipython",
    "version": 3
   },
   "file_extension": ".py",
   "mimetype": "text/x-python",
   "name": "python",
   "nbconvert_exporter": "python",
   "pygments_lexer": "ipython3",
   "version": "3.10.11"
  }
 },
 "nbformat": 4,
 "nbformat_minor": 2
}
